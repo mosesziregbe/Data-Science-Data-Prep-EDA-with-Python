{
 "cells": [
  {
   "cell_type": "markdown",
   "metadata": {},
   "source": [
    "# Assignment: Read a File into Python"
   ]
  },
  {
   "cell_type": "markdown",
   "metadata": {},
   "source": [
    "Hi there,\n",
    "\n",
    "I hear you’re the new junior data scientist on the team. Welcome!\n",
    "\n",
    "Our polling partners just finished collecting survey data on the happiness levels in each country. I’ve attached the file.\n",
    "\n",
    "Can you load the data into Python and confirm the number of rows in the data and the range of the happiness scores? Then we can walk through next steps together.\n",
    "\n",
    "Thanks!\\\n",
    "Anna\n",
    "\n",
    "*Attachment: happiness_survey_data.csv*"
   ]
  },
  {
   "cell_type": "markdown",
   "metadata": {},
   "source": [
    "### 1. Read in data from a csv file"
   ]
  },
  {
   "cell_type": "code",
   "execution_count": 77,
   "metadata": {},
   "outputs": [],
   "source": [
    "import pandas as pd\n",
    "import numpy as np\n",
    "import seaborn as sns"
   ]
  },
  {
   "cell_type": "code",
   "execution_count": 11,
   "metadata": {},
   "outputs": [
    {
     "data": {
      "text/html": [
       "<div>\n",
       "<style scoped>\n",
       "    .dataframe tbody tr th:only-of-type {\n",
       "        vertical-align: middle;\n",
       "    }\n",
       "\n",
       "    .dataframe tbody tr th {\n",
       "        vertical-align: top;\n",
       "    }\n",
       "\n",
       "    .dataframe thead th {\n",
       "        text-align: right;\n",
       "    }\n",
       "</style>\n",
       "<table border=\"1\" class=\"dataframe\">\n",
       "  <thead>\n",
       "    <tr style=\"text-align: right;\">\n",
       "      <th></th>\n",
       "      <th>country_name</th>\n",
       "      <th>year</th>\n",
       "      <th>happiness_score</th>\n",
       "      <th>social_support</th>\n",
       "      <th>freedom_to_make_life_choices</th>\n",
       "      <th>healthy_life_expectancy_at_birth</th>\n",
       "    </tr>\n",
       "  </thead>\n",
       "  <tbody>\n",
       "    <tr>\n",
       "      <th>0</th>\n",
       "      <td>Afghanistan</td>\n",
       "      <td>2008</td>\n",
       "      <td>3.723590</td>\n",
       "      <td>0.450662</td>\n",
       "      <td>0.718114</td>\n",
       "      <td>50.500000</td>\n",
       "    </tr>\n",
       "    <tr>\n",
       "      <th>1</th>\n",
       "      <td>Afghanistan</td>\n",
       "      <td>2009</td>\n",
       "      <td>4.401778</td>\n",
       "      <td>0.552308</td>\n",
       "      <td>0.678896</td>\n",
       "      <td>50.799999</td>\n",
       "    </tr>\n",
       "    <tr>\n",
       "      <th>2</th>\n",
       "      <td>Afghanistan</td>\n",
       "      <td>2010</td>\n",
       "      <td>4.758381</td>\n",
       "      <td>0.539075</td>\n",
       "      <td>0.600127</td>\n",
       "      <td>51.099998</td>\n",
       "    </tr>\n",
       "    <tr>\n",
       "      <th>3</th>\n",
       "      <td>Afghanistan</td>\n",
       "      <td>2011</td>\n",
       "      <td>3.831719</td>\n",
       "      <td>0.521104</td>\n",
       "      <td>0.495901</td>\n",
       "      <td>51.400002</td>\n",
       "    </tr>\n",
       "    <tr>\n",
       "      <th>4</th>\n",
       "      <td>Afghanistan</td>\n",
       "      <td>2012</td>\n",
       "      <td>3.782938</td>\n",
       "      <td>0.520637</td>\n",
       "      <td>0.530935</td>\n",
       "      <td>51.700001</td>\n",
       "    </tr>\n",
       "    <tr>\n",
       "      <th>...</th>\n",
       "      <td>...</td>\n",
       "      <td>...</td>\n",
       "      <td>...</td>\n",
       "      <td>...</td>\n",
       "      <td>...</td>\n",
       "      <td>...</td>\n",
       "    </tr>\n",
       "    <tr>\n",
       "      <th>2084</th>\n",
       "      <td>Zimbabwe</td>\n",
       "      <td>2017</td>\n",
       "      <td>3.638300</td>\n",
       "      <td>0.754147</td>\n",
       "      <td>0.752826</td>\n",
       "      <td>52.150002</td>\n",
       "    </tr>\n",
       "    <tr>\n",
       "      <th>2085</th>\n",
       "      <td>Zimbabwe</td>\n",
       "      <td>2018</td>\n",
       "      <td>3.616480</td>\n",
       "      <td>0.775388</td>\n",
       "      <td>0.762675</td>\n",
       "      <td>52.625000</td>\n",
       "    </tr>\n",
       "    <tr>\n",
       "      <th>2086</th>\n",
       "      <td>Zimbabwe</td>\n",
       "      <td>2019</td>\n",
       "      <td>2.693523</td>\n",
       "      <td>0.759162</td>\n",
       "      <td>0.631908</td>\n",
       "      <td>53.099998</td>\n",
       "    </tr>\n",
       "    <tr>\n",
       "      <th>2087</th>\n",
       "      <td>Zimbabwe</td>\n",
       "      <td>2020</td>\n",
       "      <td>3.159802</td>\n",
       "      <td>0.717243</td>\n",
       "      <td>0.643303</td>\n",
       "      <td>53.575001</td>\n",
       "    </tr>\n",
       "    <tr>\n",
       "      <th>2088</th>\n",
       "      <td>Zimbabwe</td>\n",
       "      <td>2021</td>\n",
       "      <td>3.154578</td>\n",
       "      <td>0.685151</td>\n",
       "      <td>0.667636</td>\n",
       "      <td>54.049999</td>\n",
       "    </tr>\n",
       "  </tbody>\n",
       "</table>\n",
       "<p>2089 rows × 6 columns</p>\n",
       "</div>"
      ],
      "text/plain": [
       "     country_name  year  happiness_score  social_support  \\\n",
       "0     Afghanistan  2008         3.723590        0.450662   \n",
       "1     Afghanistan  2009         4.401778        0.552308   \n",
       "2     Afghanistan  2010         4.758381        0.539075   \n",
       "3     Afghanistan  2011         3.831719        0.521104   \n",
       "4     Afghanistan  2012         3.782938        0.520637   \n",
       "...           ...   ...              ...             ...   \n",
       "2084     Zimbabwe  2017         3.638300        0.754147   \n",
       "2085     Zimbabwe  2018         3.616480        0.775388   \n",
       "2086     Zimbabwe  2019         2.693523        0.759162   \n",
       "2087     Zimbabwe  2020         3.159802        0.717243   \n",
       "2088     Zimbabwe  2021         3.154578        0.685151   \n",
       "\n",
       "      freedom_to_make_life_choices  healthy_life_expectancy_at_birth  \n",
       "0                         0.718114                         50.500000  \n",
       "1                         0.678896                         50.799999  \n",
       "2                         0.600127                         51.099998  \n",
       "3                         0.495901                         51.400002  \n",
       "4                         0.530935                         51.700001  \n",
       "...                            ...                               ...  \n",
       "2084                      0.752826                         52.150002  \n",
       "2085                      0.762675                         52.625000  \n",
       "2086                      0.631908                         53.099998  \n",
       "2087                      0.643303                         53.575001  \n",
       "2088                      0.667636                         54.049999  \n",
       "\n",
       "[2089 rows x 6 columns]"
      ]
     },
     "execution_count": 11,
     "metadata": {},
     "output_type": "execute_result"
    }
   ],
   "source": [
    "pd.read_csv(\"../Data/happiness_survey_data.csv\")"
   ]
  },
  {
   "cell_type": "code",
   "execution_count": null,
   "metadata": {},
   "outputs": [],
   "source": []
  },
  {
   "cell_type": "markdown",
   "metadata": {},
   "source": [
    "### 2. Store data in a DataFrame"
   ]
  },
  {
   "cell_type": "code",
   "execution_count": 12,
   "metadata": {},
   "outputs": [
    {
     "data": {
      "text/html": [
       "<div>\n",
       "<style scoped>\n",
       "    .dataframe tbody tr th:only-of-type {\n",
       "        vertical-align: middle;\n",
       "    }\n",
       "\n",
       "    .dataframe tbody tr th {\n",
       "        vertical-align: top;\n",
       "    }\n",
       "\n",
       "    .dataframe thead th {\n",
       "        text-align: right;\n",
       "    }\n",
       "</style>\n",
       "<table border=\"1\" class=\"dataframe\">\n",
       "  <thead>\n",
       "    <tr style=\"text-align: right;\">\n",
       "      <th></th>\n",
       "      <th>country_name</th>\n",
       "      <th>year</th>\n",
       "      <th>happiness_score</th>\n",
       "      <th>social_support</th>\n",
       "      <th>freedom_to_make_life_choices</th>\n",
       "      <th>healthy_life_expectancy_at_birth</th>\n",
       "    </tr>\n",
       "  </thead>\n",
       "  <tbody>\n",
       "    <tr>\n",
       "      <th>0</th>\n",
       "      <td>Afghanistan</td>\n",
       "      <td>2008</td>\n",
       "      <td>3.723590</td>\n",
       "      <td>0.450662</td>\n",
       "      <td>0.718114</td>\n",
       "      <td>50.500000</td>\n",
       "    </tr>\n",
       "    <tr>\n",
       "      <th>1</th>\n",
       "      <td>Afghanistan</td>\n",
       "      <td>2009</td>\n",
       "      <td>4.401778</td>\n",
       "      <td>0.552308</td>\n",
       "      <td>0.678896</td>\n",
       "      <td>50.799999</td>\n",
       "    </tr>\n",
       "    <tr>\n",
       "      <th>2</th>\n",
       "      <td>Afghanistan</td>\n",
       "      <td>2010</td>\n",
       "      <td>4.758381</td>\n",
       "      <td>0.539075</td>\n",
       "      <td>0.600127</td>\n",
       "      <td>51.099998</td>\n",
       "    </tr>\n",
       "    <tr>\n",
       "      <th>3</th>\n",
       "      <td>Afghanistan</td>\n",
       "      <td>2011</td>\n",
       "      <td>3.831719</td>\n",
       "      <td>0.521104</td>\n",
       "      <td>0.495901</td>\n",
       "      <td>51.400002</td>\n",
       "    </tr>\n",
       "    <tr>\n",
       "      <th>4</th>\n",
       "      <td>Afghanistan</td>\n",
       "      <td>2012</td>\n",
       "      <td>3.782938</td>\n",
       "      <td>0.520637</td>\n",
       "      <td>0.530935</td>\n",
       "      <td>51.700001</td>\n",
       "    </tr>\n",
       "    <tr>\n",
       "      <th>...</th>\n",
       "      <td>...</td>\n",
       "      <td>...</td>\n",
       "      <td>...</td>\n",
       "      <td>...</td>\n",
       "      <td>...</td>\n",
       "      <td>...</td>\n",
       "    </tr>\n",
       "    <tr>\n",
       "      <th>2084</th>\n",
       "      <td>Zimbabwe</td>\n",
       "      <td>2017</td>\n",
       "      <td>3.638300</td>\n",
       "      <td>0.754147</td>\n",
       "      <td>0.752826</td>\n",
       "      <td>52.150002</td>\n",
       "    </tr>\n",
       "    <tr>\n",
       "      <th>2085</th>\n",
       "      <td>Zimbabwe</td>\n",
       "      <td>2018</td>\n",
       "      <td>3.616480</td>\n",
       "      <td>0.775388</td>\n",
       "      <td>0.762675</td>\n",
       "      <td>52.625000</td>\n",
       "    </tr>\n",
       "    <tr>\n",
       "      <th>2086</th>\n",
       "      <td>Zimbabwe</td>\n",
       "      <td>2019</td>\n",
       "      <td>2.693523</td>\n",
       "      <td>0.759162</td>\n",
       "      <td>0.631908</td>\n",
       "      <td>53.099998</td>\n",
       "    </tr>\n",
       "    <tr>\n",
       "      <th>2087</th>\n",
       "      <td>Zimbabwe</td>\n",
       "      <td>2020</td>\n",
       "      <td>3.159802</td>\n",
       "      <td>0.717243</td>\n",
       "      <td>0.643303</td>\n",
       "      <td>53.575001</td>\n",
       "    </tr>\n",
       "    <tr>\n",
       "      <th>2088</th>\n",
       "      <td>Zimbabwe</td>\n",
       "      <td>2021</td>\n",
       "      <td>3.154578</td>\n",
       "      <td>0.685151</td>\n",
       "      <td>0.667636</td>\n",
       "      <td>54.049999</td>\n",
       "    </tr>\n",
       "  </tbody>\n",
       "</table>\n",
       "<p>2089 rows × 6 columns</p>\n",
       "</div>"
      ],
      "text/plain": [
       "     country_name  year  happiness_score  social_support  \\\n",
       "0     Afghanistan  2008         3.723590        0.450662   \n",
       "1     Afghanistan  2009         4.401778        0.552308   \n",
       "2     Afghanistan  2010         4.758381        0.539075   \n",
       "3     Afghanistan  2011         3.831719        0.521104   \n",
       "4     Afghanistan  2012         3.782938        0.520637   \n",
       "...           ...   ...              ...             ...   \n",
       "2084     Zimbabwe  2017         3.638300        0.754147   \n",
       "2085     Zimbabwe  2018         3.616480        0.775388   \n",
       "2086     Zimbabwe  2019         2.693523        0.759162   \n",
       "2087     Zimbabwe  2020         3.159802        0.717243   \n",
       "2088     Zimbabwe  2021         3.154578        0.685151   \n",
       "\n",
       "      freedom_to_make_life_choices  healthy_life_expectancy_at_birth  \n",
       "0                         0.718114                         50.500000  \n",
       "1                         0.678896                         50.799999  \n",
       "2                         0.600127                         51.099998  \n",
       "3                         0.495901                         51.400002  \n",
       "4                         0.530935                         51.700001  \n",
       "...                            ...                               ...  \n",
       "2084                      0.752826                         52.150002  \n",
       "2085                      0.762675                         52.625000  \n",
       "2086                      0.631908                         53.099998  \n",
       "2087                      0.643303                         53.575001  \n",
       "2088                      0.667636                         54.049999  \n",
       "\n",
       "[2089 rows x 6 columns]"
      ]
     },
     "execution_count": 12,
     "metadata": {},
     "output_type": "execute_result"
    }
   ],
   "source": [
    "df = pd.read_csv(\"../Data/happiness_survey_data.csv\")\n",
    "df"
   ]
  },
  {
   "cell_type": "code",
   "execution_count": null,
   "metadata": {},
   "outputs": [],
   "source": []
  },
  {
   "cell_type": "code",
   "execution_count": 4,
   "metadata": {},
   "outputs": [
    {
     "data": {
      "text/html": [
       "<div>\n",
       "<style scoped>\n",
       "    .dataframe tbody tr th:only-of-type {\n",
       "        vertical-align: middle;\n",
       "    }\n",
       "\n",
       "    .dataframe tbody tr th {\n",
       "        vertical-align: top;\n",
       "    }\n",
       "\n",
       "    .dataframe thead th {\n",
       "        text-align: right;\n",
       "    }\n",
       "</style>\n",
       "<table border=\"1\" class=\"dataframe\">\n",
       "  <thead>\n",
       "    <tr style=\"text-align: right;\">\n",
       "      <th></th>\n",
       "      <th>country_name</th>\n",
       "      <th>year</th>\n",
       "      <th>happiness_score</th>\n",
       "      <th>social_support</th>\n",
       "      <th>freedom_to_make_life_choices</th>\n",
       "      <th>healthy_life_expectancy_at_birth</th>\n",
       "    </tr>\n",
       "  </thead>\n",
       "  <tbody>\n",
       "    <tr>\n",
       "      <th>0</th>\n",
       "      <td>Afghanistan</td>\n",
       "      <td>2008</td>\n",
       "      <td>3.723590</td>\n",
       "      <td>0.450662</td>\n",
       "      <td>0.718114</td>\n",
       "      <td>50.500000</td>\n",
       "    </tr>\n",
       "    <tr>\n",
       "      <th>1</th>\n",
       "      <td>Afghanistan</td>\n",
       "      <td>2009</td>\n",
       "      <td>4.401778</td>\n",
       "      <td>0.552308</td>\n",
       "      <td>0.678896</td>\n",
       "      <td>50.799999</td>\n",
       "    </tr>\n",
       "    <tr>\n",
       "      <th>2</th>\n",
       "      <td>Afghanistan</td>\n",
       "      <td>2010</td>\n",
       "      <td>4.758381</td>\n",
       "      <td>0.539075</td>\n",
       "      <td>0.600127</td>\n",
       "      <td>51.099998</td>\n",
       "    </tr>\n",
       "    <tr>\n",
       "      <th>3</th>\n",
       "      <td>Afghanistan</td>\n",
       "      <td>2011</td>\n",
       "      <td>3.831719</td>\n",
       "      <td>0.521104</td>\n",
       "      <td>0.495901</td>\n",
       "      <td>51.400002</td>\n",
       "    </tr>\n",
       "    <tr>\n",
       "      <th>4</th>\n",
       "      <td>Afghanistan</td>\n",
       "      <td>2012</td>\n",
       "      <td>3.782938</td>\n",
       "      <td>0.520637</td>\n",
       "      <td>0.530935</td>\n",
       "      <td>51.700001</td>\n",
       "    </tr>\n",
       "  </tbody>\n",
       "</table>\n",
       "</div>"
      ],
      "text/plain": [
       "  country_name  year  happiness_score  social_support  \\\n",
       "0  Afghanistan  2008         3.723590        0.450662   \n",
       "1  Afghanistan  2009         4.401778        0.552308   \n",
       "2  Afghanistan  2010         4.758381        0.539075   \n",
       "3  Afghanistan  2011         3.831719        0.521104   \n",
       "4  Afghanistan  2012         3.782938        0.520637   \n",
       "\n",
       "   freedom_to_make_life_choices  healthy_life_expectancy_at_birth  \n",
       "0                      0.718114                         50.500000  \n",
       "1                      0.678896                         50.799999  \n",
       "2                      0.600127                         51.099998  \n",
       "3                      0.495901                         51.400002  \n",
       "4                      0.530935                         51.700001  "
      ]
     },
     "execution_count": 4,
     "metadata": {},
     "output_type": "execute_result"
    }
   ],
   "source": [
    "df.head()"
   ]
  },
  {
   "cell_type": "code",
   "execution_count": 5,
   "metadata": {},
   "outputs": [
    {
     "data": {
      "text/html": [
       "<div>\n",
       "<style scoped>\n",
       "    .dataframe tbody tr th:only-of-type {\n",
       "        vertical-align: middle;\n",
       "    }\n",
       "\n",
       "    .dataframe tbody tr th {\n",
       "        vertical-align: top;\n",
       "    }\n",
       "\n",
       "    .dataframe thead th {\n",
       "        text-align: right;\n",
       "    }\n",
       "</style>\n",
       "<table border=\"1\" class=\"dataframe\">\n",
       "  <thead>\n",
       "    <tr style=\"text-align: right;\">\n",
       "      <th></th>\n",
       "      <th>country_name</th>\n",
       "      <th>year</th>\n",
       "      <th>happiness_score</th>\n",
       "      <th>social_support</th>\n",
       "      <th>freedom_to_make_life_choices</th>\n",
       "      <th>healthy_life_expectancy_at_birth</th>\n",
       "    </tr>\n",
       "  </thead>\n",
       "  <tbody>\n",
       "    <tr>\n",
       "      <th>2084</th>\n",
       "      <td>Zimbabwe</td>\n",
       "      <td>2017</td>\n",
       "      <td>3.638300</td>\n",
       "      <td>0.754147</td>\n",
       "      <td>0.752826</td>\n",
       "      <td>52.150002</td>\n",
       "    </tr>\n",
       "    <tr>\n",
       "      <th>2085</th>\n",
       "      <td>Zimbabwe</td>\n",
       "      <td>2018</td>\n",
       "      <td>3.616480</td>\n",
       "      <td>0.775388</td>\n",
       "      <td>0.762675</td>\n",
       "      <td>52.625000</td>\n",
       "    </tr>\n",
       "    <tr>\n",
       "      <th>2086</th>\n",
       "      <td>Zimbabwe</td>\n",
       "      <td>2019</td>\n",
       "      <td>2.693523</td>\n",
       "      <td>0.759162</td>\n",
       "      <td>0.631908</td>\n",
       "      <td>53.099998</td>\n",
       "    </tr>\n",
       "    <tr>\n",
       "      <th>2087</th>\n",
       "      <td>Zimbabwe</td>\n",
       "      <td>2020</td>\n",
       "      <td>3.159802</td>\n",
       "      <td>0.717243</td>\n",
       "      <td>0.643303</td>\n",
       "      <td>53.575001</td>\n",
       "    </tr>\n",
       "    <tr>\n",
       "      <th>2088</th>\n",
       "      <td>Zimbabwe</td>\n",
       "      <td>2021</td>\n",
       "      <td>3.154578</td>\n",
       "      <td>0.685151</td>\n",
       "      <td>0.667636</td>\n",
       "      <td>54.049999</td>\n",
       "    </tr>\n",
       "  </tbody>\n",
       "</table>\n",
       "</div>"
      ],
      "text/plain": [
       "     country_name  year  happiness_score  social_support  \\\n",
       "2084     Zimbabwe  2017         3.638300        0.754147   \n",
       "2085     Zimbabwe  2018         3.616480        0.775388   \n",
       "2086     Zimbabwe  2019         2.693523        0.759162   \n",
       "2087     Zimbabwe  2020         3.159802        0.717243   \n",
       "2088     Zimbabwe  2021         3.154578        0.685151   \n",
       "\n",
       "      freedom_to_make_life_choices  healthy_life_expectancy_at_birth  \n",
       "2084                      0.752826                         52.150002  \n",
       "2085                      0.762675                         52.625000  \n",
       "2086                      0.631908                         53.099998  \n",
       "2087                      0.643303                         53.575001  \n",
       "2088                      0.667636                         54.049999  "
      ]
     },
     "execution_count": 5,
     "metadata": {},
     "output_type": "execute_result"
    }
   ],
   "source": [
    "df.tail()"
   ]
  },
  {
   "cell_type": "code",
   "execution_count": null,
   "metadata": {},
   "outputs": [],
   "source": []
  },
  {
   "cell_type": "code",
   "execution_count": 7,
   "metadata": {
    "tags": []
   },
   "outputs": [
    {
     "data": {
      "text/plain": [
       "(2089, 6)"
      ]
     },
     "execution_count": 7,
     "metadata": {},
     "output_type": "execute_result"
    }
   ],
   "source": [
    "# shape of the dataframe\n",
    "df.shape"
   ]
  },
  {
   "cell_type": "code",
   "execution_count": 8,
   "metadata": {
    "tags": []
   },
   "outputs": [
    {
     "data": {
      "text/plain": [
       "country_name                        2089\n",
       "year                                2089\n",
       "happiness_score                     2089\n",
       "social_support                      2076\n",
       "freedom_to_make_life_choices        2057\n",
       "healthy_life_expectancy_at_birth    2031\n",
       "dtype: int64"
      ]
     },
     "execution_count": 8,
     "metadata": {},
     "output_type": "execute_result"
    }
   ],
   "source": [
    "# number of values in each column\n",
    "df.count()"
   ]
  },
  {
   "cell_type": "code",
   "execution_count": 9,
   "metadata": {
    "tags": []
   },
   "outputs": [
    {
     "data": {
      "text/html": [
       "<div>\n",
       "<style scoped>\n",
       "    .dataframe tbody tr th:only-of-type {\n",
       "        vertical-align: middle;\n",
       "    }\n",
       "\n",
       "    .dataframe tbody tr th {\n",
       "        vertical-align: top;\n",
       "    }\n",
       "\n",
       "    .dataframe thead th {\n",
       "        text-align: right;\n",
       "    }\n",
       "</style>\n",
       "<table border=\"1\" class=\"dataframe\">\n",
       "  <thead>\n",
       "    <tr style=\"text-align: right;\">\n",
       "      <th></th>\n",
       "      <th>year</th>\n",
       "      <th>happiness_score</th>\n",
       "      <th>social_support</th>\n",
       "      <th>freedom_to_make_life_choices</th>\n",
       "      <th>healthy_life_expectancy_at_birth</th>\n",
       "    </tr>\n",
       "  </thead>\n",
       "  <tbody>\n",
       "    <tr>\n",
       "      <th>count</th>\n",
       "      <td>2089.000000</td>\n",
       "      <td>2089.000000</td>\n",
       "      <td>2076.000000</td>\n",
       "      <td>2057.000000</td>\n",
       "      <td>2031.000000</td>\n",
       "    </tr>\n",
       "    <tr>\n",
       "      <th>mean</th>\n",
       "      <td>2013.727621</td>\n",
       "      <td>5.473747</td>\n",
       "      <td>0.811542</td>\n",
       "      <td>0.745462</td>\n",
       "      <td>63.180326</td>\n",
       "    </tr>\n",
       "    <tr>\n",
       "      <th>std</th>\n",
       "      <td>4.455614</td>\n",
       "      <td>1.115567</td>\n",
       "      <td>0.118935</td>\n",
       "      <td>0.140751</td>\n",
       "      <td>6.948546</td>\n",
       "    </tr>\n",
       "    <tr>\n",
       "      <th>min</th>\n",
       "      <td>2005.000000</td>\n",
       "      <td>2.178809</td>\n",
       "      <td>0.290184</td>\n",
       "      <td>0.257534</td>\n",
       "      <td>6.720000</td>\n",
       "    </tr>\n",
       "    <tr>\n",
       "      <th>25%</th>\n",
       "      <td>2010.000000</td>\n",
       "      <td>4.651972</td>\n",
       "      <td>0.747664</td>\n",
       "      <td>0.651689</td>\n",
       "      <td>58.965000</td>\n",
       "    </tr>\n",
       "    <tr>\n",
       "      <th>50%</th>\n",
       "      <td>2014.000000</td>\n",
       "      <td>5.405246</td>\n",
       "      <td>0.834770</td>\n",
       "      <td>0.767357</td>\n",
       "      <td>64.980003</td>\n",
       "    </tr>\n",
       "    <tr>\n",
       "      <th>75%</th>\n",
       "      <td>2017.000000</td>\n",
       "      <td>6.294282</td>\n",
       "      <td>0.904682</td>\n",
       "      <td>0.857677</td>\n",
       "      <td>68.362499</td>\n",
       "    </tr>\n",
       "    <tr>\n",
       "      <th>max</th>\n",
       "      <td>2021.000000</td>\n",
       "      <td>8.018934</td>\n",
       "      <td>0.987343</td>\n",
       "      <td>0.985178</td>\n",
       "      <td>74.349998</td>\n",
       "    </tr>\n",
       "  </tbody>\n",
       "</table>\n",
       "</div>"
      ],
      "text/plain": [
       "              year  happiness_score  social_support  \\\n",
       "count  2089.000000      2089.000000     2076.000000   \n",
       "mean   2013.727621         5.473747        0.811542   \n",
       "std       4.455614         1.115567        0.118935   \n",
       "min    2005.000000         2.178809        0.290184   \n",
       "25%    2010.000000         4.651972        0.747664   \n",
       "50%    2014.000000         5.405246        0.834770   \n",
       "75%    2017.000000         6.294282        0.904682   \n",
       "max    2021.000000         8.018934        0.987343   \n",
       "\n",
       "       freedom_to_make_life_choices  healthy_life_expectancy_at_birth  \n",
       "count                   2057.000000                       2031.000000  \n",
       "mean                       0.745462                         63.180326  \n",
       "std                        0.140751                          6.948546  \n",
       "min                        0.257534                          6.720000  \n",
       "25%                        0.651689                         58.965000  \n",
       "50%                        0.767357                         64.980003  \n",
       "75%                        0.857677                         68.362499  \n",
       "max                        0.985178                         74.349998  "
      ]
     },
     "execution_count": 9,
     "metadata": {},
     "output_type": "execute_result"
    }
   ],
   "source": [
    "# describe the data\n",
    "df.describe()"
   ]
  },
  {
   "cell_type": "code",
   "execution_count": 10,
   "metadata": {
    "tags": []
   },
   "outputs": [
    {
     "name": "stdout",
     "output_type": "stream",
     "text": [
      "<class 'pandas.core.frame.DataFrame'>\n",
      "RangeIndex: 2089 entries, 0 to 2088\n",
      "Data columns (total 6 columns):\n",
      " #   Column                            Non-Null Count  Dtype  \n",
      "---  ------                            --------------  -----  \n",
      " 0   country_name                      2089 non-null   object \n",
      " 1   year                              2089 non-null   int64  \n",
      " 2   happiness_score                   2089 non-null   float64\n",
      " 3   social_support                    2076 non-null   float64\n",
      " 4   freedom_to_make_life_choices      2057 non-null   float64\n",
      " 5   healthy_life_expectancy_at_birth  2031 non-null   float64\n",
      "dtypes: float64(4), int64(1), object(1)\n",
      "memory usage: 98.1+ KB\n"
     ]
    }
   ],
   "source": [
    "df.info()"
   ]
  },
  {
   "cell_type": "code",
   "execution_count": null,
   "metadata": {},
   "outputs": [],
   "source": []
  },
  {
   "cell_type": "markdown",
   "metadata": {},
   "source": [
    "# Assignments: Cleaning Data"
   ]
  },
  {
   "cell_type": "markdown",
   "metadata": {},
   "source": [
    "## 1. Data in Python Request"
   ]
  },
  {
   "cell_type": "markdown",
   "metadata": {},
   "source": [
    "* Read in data from the Excel spreadsheet (Alarm Survey Data.xlsx) and put into a Pandas DataFrame\n",
    "* Check the data type of each column\n",
    "* Convert object columns into numeric or datetime columns, as needed"
   ]
  },
  {
   "cell_type": "code",
   "execution_count": 19,
   "metadata": {
    "tags": []
   },
   "outputs": [
    {
     "data": {
      "text/html": [
       "<div>\n",
       "<style scoped>\n",
       "    .dataframe tbody tr th:only-of-type {\n",
       "        vertical-align: middle;\n",
       "    }\n",
       "\n",
       "    .dataframe tbody tr th {\n",
       "        vertical-align: top;\n",
       "    }\n",
       "\n",
       "    .dataframe thead th {\n",
       "        text-align: right;\n",
       "    }\n",
       "</style>\n",
       "<table border=\"1\" class=\"dataframe\">\n",
       "  <thead>\n",
       "    <tr style=\"text-align: right;\">\n",
       "      <th></th>\n",
       "      <th>survey_id</th>\n",
       "      <th>age</th>\n",
       "      <th>number_of_children</th>\n",
       "      <th>activity_level</th>\n",
       "      <th>sleep_quality</th>\n",
       "      <th>number_of_snoozes</th>\n",
       "      <th>alarm_rating</th>\n",
       "    </tr>\n",
       "  </thead>\n",
       "  <tbody>\n",
       "    <tr>\n",
       "      <th>0</th>\n",
       "      <td>1</td>\n",
       "      <td>34</td>\n",
       "      <td>3.0</td>\n",
       "      <td>active</td>\n",
       "      <td>3.0</td>\n",
       "      <td>1</td>\n",
       "      <td>5 stars</td>\n",
       "    </tr>\n",
       "    <tr>\n",
       "      <th>1</th>\n",
       "      <td>2</td>\n",
       "      <td>31</td>\n",
       "      <td>3.0</td>\n",
       "      <td>light</td>\n",
       "      <td>3.0</td>\n",
       "      <td>3</td>\n",
       "      <td>3 stars</td>\n",
       "    </tr>\n",
       "    <tr>\n",
       "      <th>2</th>\n",
       "      <td>3</td>\n",
       "      <td>18</td>\n",
       "      <td>0.0</td>\n",
       "      <td>light_activity</td>\n",
       "      <td>4.0</td>\n",
       "      <td>1</td>\n",
       "      <td>1 stars</td>\n",
       "    </tr>\n",
       "    <tr>\n",
       "      <th>3</th>\n",
       "      <td>4</td>\n",
       "      <td>42</td>\n",
       "      <td>4.0</td>\n",
       "      <td>active</td>\n",
       "      <td>4.0</td>\n",
       "      <td>1</td>\n",
       "      <td>4 stars</td>\n",
       "    </tr>\n",
       "    <tr>\n",
       "      <th>4</th>\n",
       "      <td>5</td>\n",
       "      <td>30</td>\n",
       "      <td>1.0</td>\n",
       "      <td>light_activity</td>\n",
       "      <td>1.0</td>\n",
       "      <td>4</td>\n",
       "      <td>3 stars</td>\n",
       "    </tr>\n",
       "    <tr>\n",
       "      <th>...</th>\n",
       "      <td>...</td>\n",
       "      <td>...</td>\n",
       "      <td>...</td>\n",
       "      <td>...</td>\n",
       "      <td>...</td>\n",
       "      <td>...</td>\n",
       "      <td>...</td>\n",
       "    </tr>\n",
       "    <tr>\n",
       "      <th>6428</th>\n",
       "      <td>6362</td>\n",
       "      <td>27</td>\n",
       "      <td>2.0</td>\n",
       "      <td>active</td>\n",
       "      <td>5.0</td>\n",
       "      <td>0</td>\n",
       "      <td>5 stars</td>\n",
       "    </tr>\n",
       "    <tr>\n",
       "      <th>6429</th>\n",
       "      <td>6363</td>\n",
       "      <td>31</td>\n",
       "      <td>1.0</td>\n",
       "      <td>light</td>\n",
       "      <td>4.0</td>\n",
       "      <td>0</td>\n",
       "      <td>4 stars</td>\n",
       "    </tr>\n",
       "    <tr>\n",
       "      <th>6430</th>\n",
       "      <td>6364</td>\n",
       "      <td>26</td>\n",
       "      <td>0.0</td>\n",
       "      <td>lightly active</td>\n",
       "      <td>5.0</td>\n",
       "      <td>0</td>\n",
       "      <td>3 stars</td>\n",
       "    </tr>\n",
       "    <tr>\n",
       "      <th>6431</th>\n",
       "      <td>6365</td>\n",
       "      <td>27</td>\n",
       "      <td>1.0</td>\n",
       "      <td>active</td>\n",
       "      <td>5.0</td>\n",
       "      <td>0</td>\n",
       "      <td>3 stars</td>\n",
       "    </tr>\n",
       "    <tr>\n",
       "      <th>6432</th>\n",
       "      <td>6366</td>\n",
       "      <td>18</td>\n",
       "      <td>0.0</td>\n",
       "      <td>lightly active</td>\n",
       "      <td>4.0</td>\n",
       "      <td>0</td>\n",
       "      <td>1 stars</td>\n",
       "    </tr>\n",
       "  </tbody>\n",
       "</table>\n",
       "<p>6433 rows × 7 columns</p>\n",
       "</div>"
      ],
      "text/plain": [
       "      survey_id  age  number_of_children  activity_level  sleep_quality  \\\n",
       "0             1   34                 3.0          active            3.0   \n",
       "1             2   31                 3.0           light            3.0   \n",
       "2             3   18                 0.0  light_activity            4.0   \n",
       "3             4   42                 4.0          active            4.0   \n",
       "4             5   30                 1.0  light_activity            1.0   \n",
       "...         ...  ...                 ...             ...            ...   \n",
       "6428       6362   27                 2.0          active            5.0   \n",
       "6429       6363   31                 1.0           light            4.0   \n",
       "6430       6364   26                 0.0  lightly active            5.0   \n",
       "6431       6365   27                 1.0          active            5.0   \n",
       "6432       6366   18                 0.0  lightly active            4.0   \n",
       "\n",
       "      number_of_snoozes alarm_rating  \n",
       "0                     1      5 stars  \n",
       "1                     3      3 stars  \n",
       "2                     1      1 stars  \n",
       "3                     1      4 stars  \n",
       "4                     4      3 stars  \n",
       "...                 ...          ...  \n",
       "6428                  0      5 stars  \n",
       "6429                  0      4 stars  \n",
       "6430                  0      3 stars  \n",
       "6431                  0      3 stars  \n",
       "6432                  0      1 stars  \n",
       "\n",
       "[6433 rows x 7 columns]"
      ]
     },
     "execution_count": 19,
     "metadata": {},
     "output_type": "execute_result"
    }
   ],
   "source": [
    "df = pd.read_excel(\"../Data/Alarm Survey Data.xlsx\")\n",
    "df"
   ]
  },
  {
   "cell_type": "code",
   "execution_count": 20,
   "metadata": {
    "tags": []
   },
   "outputs": [
    {
     "data": {
      "text/plain": [
       "survey_id               int64\n",
       "age                     int64\n",
       "number_of_children    float64\n",
       "activity_level         object\n",
       "sleep_quality         float64\n",
       "number_of_snoozes       int64\n",
       "alarm_rating           object\n",
       "dtype: object"
      ]
     },
     "execution_count": 20,
     "metadata": {},
     "output_type": "execute_result"
    }
   ],
   "source": [
    "# check data type of each column\n",
    "df.dtypes"
   ]
  },
  {
   "cell_type": "code",
   "execution_count": null,
   "metadata": {},
   "outputs": [],
   "source": []
  },
  {
   "cell_type": "code",
   "execution_count": 23,
   "metadata": {
    "tags": []
   },
   "outputs": [],
   "source": [
    "# change rating to numeric value\n",
    "\n",
    "df[\"alarm_rating\"] = pd.to_numeric(df[\"alarm_rating\"].str.replace(' stars', ''))"
   ]
  },
  {
   "cell_type": "code",
   "execution_count": 24,
   "metadata": {
    "tags": []
   },
   "outputs": [
    {
     "data": {
      "text/plain": [
       "0       5\n",
       "1       3\n",
       "2       1\n",
       "3       4\n",
       "4       3\n",
       "       ..\n",
       "6428    5\n",
       "6429    4\n",
       "6430    3\n",
       "6431    3\n",
       "6432    1\n",
       "Name: alarm_rating, Length: 6433, dtype: int64"
      ]
     },
     "execution_count": 24,
     "metadata": {},
     "output_type": "execute_result"
    }
   ],
   "source": [
    "df[\"alarm_rating\"]"
   ]
  },
  {
   "cell_type": "code",
   "execution_count": 26,
   "metadata": {
    "tags": []
   },
   "outputs": [
    {
     "data": {
      "text/plain": [
       "survey_id               int64\n",
       "age                     int64\n",
       "number_of_children    float64\n",
       "activity_level         object\n",
       "sleep_quality         float64\n",
       "number_of_snoozes       int64\n",
       "alarm_rating            int64\n",
       "dtype: object"
      ]
     },
     "execution_count": 26,
     "metadata": {},
     "output_type": "execute_result"
    }
   ],
   "source": [
    "df.dtypes"
   ]
  },
  {
   "cell_type": "code",
   "execution_count": null,
   "metadata": {},
   "outputs": [],
   "source": []
  },
  {
   "cell_type": "code",
   "execution_count": null,
   "metadata": {},
   "outputs": [],
   "source": []
  },
  {
   "cell_type": "markdown",
   "metadata": {},
   "source": [
    "## 2. Missing Data Check"
   ]
  },
  {
   "cell_type": "markdown",
   "metadata": {
    "tags": []
   },
   "source": [
    "* Find any missing data\n",
    "* Deal with the missing data"
   ]
  },
  {
   "cell_type": "code",
   "execution_count": 31,
   "metadata": {
    "tags": []
   },
   "outputs": [
    {
     "name": "stdout",
     "output_type": "stream",
     "text": [
      "<class 'pandas.core.frame.DataFrame'>\n",
      "RangeIndex: 6433 entries, 0 to 6432\n",
      "Data columns (total 7 columns):\n",
      " #   Column              Non-Null Count  Dtype  \n",
      "---  ------              --------------  -----  \n",
      " 0   survey_id           6433 non-null   int64  \n",
      " 1   age                 6433 non-null   int64  \n",
      " 2   number_of_children  6433 non-null   float64\n",
      " 3   activity_level      6433 non-null   object \n",
      " 4   sleep_quality       6082 non-null   float64\n",
      " 5   number_of_snoozes   6433 non-null   int64  \n",
      " 6   alarm_rating        6433 non-null   int64  \n",
      "dtypes: float64(2), int64(4), object(1)\n",
      "memory usage: 351.9+ KB\n"
     ]
    }
   ],
   "source": [
    "df.info()"
   ]
  },
  {
   "cell_type": "code",
   "execution_count": 29,
   "metadata": {
    "tags": []
   },
   "outputs": [
    {
     "data": {
      "text/plain": [
       "survey_id               0\n",
       "age                     0\n",
       "number_of_children      0\n",
       "activity_level          0\n",
       "sleep_quality         351\n",
       "number_of_snoozes       0\n",
       "alarm_rating            0\n",
       "dtype: int64"
      ]
     },
     "execution_count": 29,
     "metadata": {},
     "output_type": "execute_result"
    }
   ],
   "source": [
    "# finding any missing data\n",
    "\n",
    "df.isna().sum()"
   ]
  },
  {
   "cell_type": "code",
   "execution_count": 28,
   "metadata": {
    "tags": []
   },
   "outputs": [
    {
     "data": {
      "text/html": [
       "<div>\n",
       "<style scoped>\n",
       "    .dataframe tbody tr th:only-of-type {\n",
       "        vertical-align: middle;\n",
       "    }\n",
       "\n",
       "    .dataframe tbody tr th {\n",
       "        vertical-align: top;\n",
       "    }\n",
       "\n",
       "    .dataframe thead th {\n",
       "        text-align: right;\n",
       "    }\n",
       "</style>\n",
       "<table border=\"1\" class=\"dataframe\">\n",
       "  <thead>\n",
       "    <tr style=\"text-align: right;\">\n",
       "      <th></th>\n",
       "      <th>survey_id</th>\n",
       "      <th>age</th>\n",
       "      <th>number_of_children</th>\n",
       "      <th>activity_level</th>\n",
       "      <th>sleep_quality</th>\n",
       "      <th>number_of_snoozes</th>\n",
       "      <th>alarm_rating</th>\n",
       "    </tr>\n",
       "  </thead>\n",
       "  <tbody>\n",
       "    <tr>\n",
       "      <th>10</th>\n",
       "      <td>11</td>\n",
       "      <td>28</td>\n",
       "      <td>2.0</td>\n",
       "      <td>light_activity</td>\n",
       "      <td>NaN</td>\n",
       "      <td>3</td>\n",
       "      <td>4</td>\n",
       "    </tr>\n",
       "    <tr>\n",
       "      <th>18</th>\n",
       "      <td>19</td>\n",
       "      <td>38</td>\n",
       "      <td>2.0</td>\n",
       "      <td>lightly active</td>\n",
       "      <td>NaN</td>\n",
       "      <td>1</td>\n",
       "      <td>5</td>\n",
       "    </tr>\n",
       "    <tr>\n",
       "      <th>23</th>\n",
       "      <td>24</td>\n",
       "      <td>24</td>\n",
       "      <td>2.0</td>\n",
       "      <td>very active</td>\n",
       "      <td>NaN</td>\n",
       "      <td>1</td>\n",
       "      <td>5</td>\n",
       "    </tr>\n",
       "    <tr>\n",
       "      <th>26</th>\n",
       "      <td>27</td>\n",
       "      <td>25</td>\n",
       "      <td>2.0</td>\n",
       "      <td>lightly active</td>\n",
       "      <td>NaN</td>\n",
       "      <td>1</td>\n",
       "      <td>2</td>\n",
       "    </tr>\n",
       "    <tr>\n",
       "      <th>28</th>\n",
       "      <td>29</td>\n",
       "      <td>29</td>\n",
       "      <td>2.0</td>\n",
       "      <td>lightly active</td>\n",
       "      <td>NaN</td>\n",
       "      <td>1</td>\n",
       "      <td>2</td>\n",
       "    </tr>\n",
       "    <tr>\n",
       "      <th>...</th>\n",
       "      <td>...</td>\n",
       "      <td>...</td>\n",
       "      <td>...</td>\n",
       "      <td>...</td>\n",
       "      <td>...</td>\n",
       "      <td>...</td>\n",
       "      <td>...</td>\n",
       "    </tr>\n",
       "    <tr>\n",
       "      <th>6310</th>\n",
       "      <td>6311</td>\n",
       "      <td>30</td>\n",
       "      <td>2.0</td>\n",
       "      <td>very active</td>\n",
       "      <td>NaN</td>\n",
       "      <td>0</td>\n",
       "      <td>3</td>\n",
       "    </tr>\n",
       "    <tr>\n",
       "      <th>6319</th>\n",
       "      <td>6320</td>\n",
       "      <td>44</td>\n",
       "      <td>2.0</td>\n",
       "      <td>lightly active</td>\n",
       "      <td>NaN</td>\n",
       "      <td>0</td>\n",
       "      <td>3</td>\n",
       "    </tr>\n",
       "    <tr>\n",
       "      <th>6375</th>\n",
       "      <td>6309</td>\n",
       "      <td>32</td>\n",
       "      <td>3.0</td>\n",
       "      <td>light</td>\n",
       "      <td>NaN</td>\n",
       "      <td>0</td>\n",
       "      <td>3</td>\n",
       "    </tr>\n",
       "    <tr>\n",
       "      <th>6377</th>\n",
       "      <td>6311</td>\n",
       "      <td>30</td>\n",
       "      <td>2.0</td>\n",
       "      <td>very active</td>\n",
       "      <td>NaN</td>\n",
       "      <td>0</td>\n",
       "      <td>3</td>\n",
       "    </tr>\n",
       "    <tr>\n",
       "      <th>6386</th>\n",
       "      <td>6320</td>\n",
       "      <td>44</td>\n",
       "      <td>2.0</td>\n",
       "      <td>lightly active</td>\n",
       "      <td>NaN</td>\n",
       "      <td>0</td>\n",
       "      <td>3</td>\n",
       "    </tr>\n",
       "  </tbody>\n",
       "</table>\n",
       "<p>351 rows × 7 columns</p>\n",
       "</div>"
      ],
      "text/plain": [
       "      survey_id  age  number_of_children  activity_level  sleep_quality  \\\n",
       "10           11   28                 2.0  light_activity            NaN   \n",
       "18           19   38                 2.0  lightly active            NaN   \n",
       "23           24   24                 2.0     very active            NaN   \n",
       "26           27   25                 2.0  lightly active            NaN   \n",
       "28           29   29                 2.0  lightly active            NaN   \n",
       "...         ...  ...                 ...             ...            ...   \n",
       "6310       6311   30                 2.0     very active            NaN   \n",
       "6319       6320   44                 2.0  lightly active            NaN   \n",
       "6375       6309   32                 3.0           light            NaN   \n",
       "6377       6311   30                 2.0     very active            NaN   \n",
       "6386       6320   44                 2.0  lightly active            NaN   \n",
       "\n",
       "      number_of_snoozes  alarm_rating  \n",
       "10                    3             4  \n",
       "18                    1             5  \n",
       "23                    1             5  \n",
       "26                    1             2  \n",
       "28                    1             2  \n",
       "...                 ...           ...  \n",
       "6310                  0             3  \n",
       "6319                  0             3  \n",
       "6375                  0             3  \n",
       "6377                  0             3  \n",
       "6386                  0             3  \n",
       "\n",
       "[351 rows x 7 columns]"
      ]
     },
     "execution_count": 28,
     "metadata": {},
     "output_type": "execute_result"
    }
   ],
   "source": [
    "# finding rows with missing data\n",
    "\n",
    "df[df.isna().any(axis=1)]"
   ]
  },
  {
   "cell_type": "code",
   "execution_count": 34,
   "metadata": {
    "tags": []
   },
   "outputs": [
    {
     "data": {
      "text/plain": [
       "5.0    2721\n",
       "4.0    2261\n",
       "3.0     997\n",
       "NaN     351\n",
       "1.0     103\n",
       "Name: sleep_quality, dtype: int64"
      ]
     },
     "execution_count": 34,
     "metadata": {},
     "output_type": "execute_result"
    }
   ],
   "source": [
    "# check the missing values\n",
    "\n",
    "df[\"sleep_quality\"].value_counts(dropna=False)"
   ]
  },
  {
   "cell_type": "code",
   "execution_count": 37,
   "metadata": {
    "tags": []
   },
   "outputs": [],
   "source": [
    "df[\"sleep_quality\"].fillna(2, inplace=True)"
   ]
  },
  {
   "cell_type": "code",
   "execution_count": 38,
   "metadata": {
    "tags": []
   },
   "outputs": [
    {
     "name": "stdout",
     "output_type": "stream",
     "text": [
      "<class 'pandas.core.frame.DataFrame'>\n",
      "RangeIndex: 6433 entries, 0 to 6432\n",
      "Data columns (total 7 columns):\n",
      " #   Column              Non-Null Count  Dtype  \n",
      "---  ------              --------------  -----  \n",
      " 0   survey_id           6433 non-null   int64  \n",
      " 1   age                 6433 non-null   int64  \n",
      " 2   number_of_children  6433 non-null   float64\n",
      " 3   activity_level      6433 non-null   object \n",
      " 4   sleep_quality       6433 non-null   float64\n",
      " 5   number_of_snoozes   6433 non-null   int64  \n",
      " 6   alarm_rating        6433 non-null   int64  \n",
      "dtypes: float64(2), int64(4), object(1)\n",
      "memory usage: 351.9+ KB\n"
     ]
    }
   ],
   "source": [
    "df.info()"
   ]
  },
  {
   "cell_type": "code",
   "execution_count": 39,
   "metadata": {
    "tags": []
   },
   "outputs": [
    {
     "name": "stdout",
     "output_type": "stream",
     "text": [
      "<class 'pandas.core.frame.DataFrame'>\n",
      "RangeIndex: 6433 entries, 0 to 6432\n",
      "Data columns (total 7 columns):\n",
      " #   Column              Non-Null Count  Dtype  \n",
      "---  ------              --------------  -----  \n",
      " 0   survey_id           6433 non-null   int64  \n",
      " 1   age                 6433 non-null   int64  \n",
      " 2   number_of_children  6433 non-null   float64\n",
      " 3   activity_level      6433 non-null   object \n",
      " 4   sleep_quality       6433 non-null   float64\n",
      " 5   number_of_snoozes   6433 non-null   int64  \n",
      " 6   alarm_rating        6433 non-null   int64  \n",
      "dtypes: float64(2), int64(4), object(1)\n",
      "memory usage: 351.9+ KB\n"
     ]
    }
   ],
   "source": [
    "df.info()"
   ]
  },
  {
   "cell_type": "code",
   "execution_count": null,
   "metadata": {},
   "outputs": [],
   "source": []
  },
  {
   "cell_type": "markdown",
   "metadata": {},
   "source": [
    "## 3. Inconsistent Text & Typos Check"
   ]
  },
  {
   "cell_type": "markdown",
   "metadata": {},
   "source": [
    "* Find any inconsistent text and typos\n",
    "* Deal with the inconsistent text and typos"
   ]
  },
  {
   "cell_type": "code",
   "execution_count": 40,
   "metadata": {
    "tags": []
   },
   "outputs": [
    {
     "data": {
      "text/html": [
       "<div>\n",
       "<style scoped>\n",
       "    .dataframe tbody tr th:only-of-type {\n",
       "        vertical-align: middle;\n",
       "    }\n",
       "\n",
       "    .dataframe tbody tr th {\n",
       "        vertical-align: top;\n",
       "    }\n",
       "\n",
       "    .dataframe thead th {\n",
       "        text-align: right;\n",
       "    }\n",
       "</style>\n",
       "<table border=\"1\" class=\"dataframe\">\n",
       "  <thead>\n",
       "    <tr style=\"text-align: right;\">\n",
       "      <th></th>\n",
       "      <th>survey_id</th>\n",
       "      <th>age</th>\n",
       "      <th>number_of_children</th>\n",
       "      <th>activity_level</th>\n",
       "      <th>sleep_quality</th>\n",
       "      <th>number_of_snoozes</th>\n",
       "      <th>alarm_rating</th>\n",
       "    </tr>\n",
       "  </thead>\n",
       "  <tbody>\n",
       "    <tr>\n",
       "      <th>0</th>\n",
       "      <td>1</td>\n",
       "      <td>34</td>\n",
       "      <td>3.0</td>\n",
       "      <td>active</td>\n",
       "      <td>3.0</td>\n",
       "      <td>1</td>\n",
       "      <td>5</td>\n",
       "    </tr>\n",
       "    <tr>\n",
       "      <th>1</th>\n",
       "      <td>2</td>\n",
       "      <td>31</td>\n",
       "      <td>3.0</td>\n",
       "      <td>light</td>\n",
       "      <td>3.0</td>\n",
       "      <td>3</td>\n",
       "      <td>3</td>\n",
       "    </tr>\n",
       "    <tr>\n",
       "      <th>2</th>\n",
       "      <td>3</td>\n",
       "      <td>18</td>\n",
       "      <td>0.0</td>\n",
       "      <td>light_activity</td>\n",
       "      <td>4.0</td>\n",
       "      <td>1</td>\n",
       "      <td>1</td>\n",
       "    </tr>\n",
       "    <tr>\n",
       "      <th>3</th>\n",
       "      <td>4</td>\n",
       "      <td>42</td>\n",
       "      <td>4.0</td>\n",
       "      <td>active</td>\n",
       "      <td>4.0</td>\n",
       "      <td>1</td>\n",
       "      <td>4</td>\n",
       "    </tr>\n",
       "    <tr>\n",
       "      <th>4</th>\n",
       "      <td>5</td>\n",
       "      <td>30</td>\n",
       "      <td>1.0</td>\n",
       "      <td>light_activity</td>\n",
       "      <td>1.0</td>\n",
       "      <td>4</td>\n",
       "      <td>3</td>\n",
       "    </tr>\n",
       "  </tbody>\n",
       "</table>\n",
       "</div>"
      ],
      "text/plain": [
       "   survey_id  age  number_of_children  activity_level  sleep_quality  \\\n",
       "0          1   34                 3.0          active            3.0   \n",
       "1          2   31                 3.0           light            3.0   \n",
       "2          3   18                 0.0  light_activity            4.0   \n",
       "3          4   42                 4.0          active            4.0   \n",
       "4          5   30                 1.0  light_activity            1.0   \n",
       "\n",
       "   number_of_snoozes  alarm_rating  \n",
       "0                  1             5  \n",
       "1                  3             3  \n",
       "2                  1             1  \n",
       "3                  1             4  \n",
       "4                  4             3  "
      ]
     },
     "execution_count": 40,
     "metadata": {},
     "output_type": "execute_result"
    }
   ],
   "source": [
    "df.head()"
   ]
  },
  {
   "cell_type": "code",
   "execution_count": 44,
   "metadata": {
    "tags": []
   },
   "outputs": [
    {
     "data": {
      "text/html": [
       "<div>\n",
       "<style scoped>\n",
       "    .dataframe tbody tr th:only-of-type {\n",
       "        vertical-align: middle;\n",
       "    }\n",
       "\n",
       "    .dataframe tbody tr th {\n",
       "        vertical-align: top;\n",
       "    }\n",
       "\n",
       "    .dataframe thead th {\n",
       "        text-align: right;\n",
       "    }\n",
       "</style>\n",
       "<table border=\"1\" class=\"dataframe\">\n",
       "  <thead>\n",
       "    <tr style=\"text-align: right;\">\n",
       "      <th></th>\n",
       "      <th>survey_id</th>\n",
       "      <th>age</th>\n",
       "      <th>number_of_children</th>\n",
       "      <th>sleep_quality</th>\n",
       "      <th>number_of_snoozes</th>\n",
       "      <th>alarm_rating</th>\n",
       "    </tr>\n",
       "  </thead>\n",
       "  <tbody>\n",
       "    <tr>\n",
       "      <th>count</th>\n",
       "      <td>6433.000000</td>\n",
       "      <td>6433.000000</td>\n",
       "      <td>6433.000000</td>\n",
       "      <td>6433.000000</td>\n",
       "      <td>6433.000000</td>\n",
       "      <td>6433.000000</td>\n",
       "    </tr>\n",
       "    <tr>\n",
       "      <th>mean</th>\n",
       "      <td>3216.302192</td>\n",
       "      <td>29.069175</td>\n",
       "      <td>1.395616</td>\n",
       "      <td>4.110835</td>\n",
       "      <td>1.145811</td>\n",
       "      <td>2.955075</td>\n",
       "    </tr>\n",
       "    <tr>\n",
       "      <th>std</th>\n",
       "      <td>1856.007409</td>\n",
       "      <td>7.472048</td>\n",
       "      <td>1.432192</td>\n",
       "      <td>0.963415</td>\n",
       "      <td>1.599481</td>\n",
       "      <td>1.101363</td>\n",
       "    </tr>\n",
       "    <tr>\n",
       "      <th>min</th>\n",
       "      <td>1.000000</td>\n",
       "      <td>13.000000</td>\n",
       "      <td>0.000000</td>\n",
       "      <td>1.000000</td>\n",
       "      <td>0.000000</td>\n",
       "      <td>1.000000</td>\n",
       "    </tr>\n",
       "    <tr>\n",
       "      <th>25%</th>\n",
       "      <td>1609.000000</td>\n",
       "      <td>23.000000</td>\n",
       "      <td>0.000000</td>\n",
       "      <td>4.000000</td>\n",
       "      <td>0.000000</td>\n",
       "      <td>2.000000</td>\n",
       "    </tr>\n",
       "    <tr>\n",
       "      <th>50%</th>\n",
       "      <td>3217.000000</td>\n",
       "      <td>28.000000</td>\n",
       "      <td>1.000000</td>\n",
       "      <td>4.000000</td>\n",
       "      <td>0.000000</td>\n",
       "      <td>3.000000</td>\n",
       "    </tr>\n",
       "    <tr>\n",
       "      <th>75%</th>\n",
       "      <td>4825.000000</td>\n",
       "      <td>34.000000</td>\n",
       "      <td>2.000000</td>\n",
       "      <td>5.000000</td>\n",
       "      <td>2.000000</td>\n",
       "      <td>4.000000</td>\n",
       "    </tr>\n",
       "    <tr>\n",
       "      <th>max</th>\n",
       "      <td>6366.000000</td>\n",
       "      <td>47.000000</td>\n",
       "      <td>5.500000</td>\n",
       "      <td>5.000000</td>\n",
       "      <td>19.000000</td>\n",
       "      <td>5.000000</td>\n",
       "    </tr>\n",
       "  </tbody>\n",
       "</table>\n",
       "</div>"
      ],
      "text/plain": [
       "         survey_id          age  number_of_children  sleep_quality  \\\n",
       "count  6433.000000  6433.000000         6433.000000    6433.000000   \n",
       "mean   3216.302192    29.069175            1.395616       4.110835   \n",
       "std    1856.007409     7.472048            1.432192       0.963415   \n",
       "min       1.000000    13.000000            0.000000       1.000000   \n",
       "25%    1609.000000    23.000000            0.000000       4.000000   \n",
       "50%    3217.000000    28.000000            1.000000       4.000000   \n",
       "75%    4825.000000    34.000000            2.000000       5.000000   \n",
       "max    6366.000000    47.000000            5.500000       5.000000   \n",
       "\n",
       "       number_of_snoozes  alarm_rating  \n",
       "count        6433.000000   6433.000000  \n",
       "mean            1.145811      2.955075  \n",
       "std             1.599481      1.101363  \n",
       "min             0.000000      1.000000  \n",
       "25%             0.000000      2.000000  \n",
       "50%             0.000000      3.000000  \n",
       "75%             2.000000      4.000000  \n",
       "max            19.000000      5.000000  "
      ]
     },
     "execution_count": 44,
     "metadata": {},
     "output_type": "execute_result"
    }
   ],
   "source": [
    "# check the numerical data\n",
    "# check each column min and max\n",
    "\n",
    "df.describe()"
   ]
  },
  {
   "cell_type": "code",
   "execution_count": 45,
   "metadata": {
    "tags": []
   },
   "outputs": [
    {
     "data": {
      "text/plain": [
       "0.0    2440\n",
       "2.0    1498\n",
       "1.0    1172\n",
       "3.0     788\n",
       "4.0     331\n",
       "5.5     204\n",
       "Name: number_of_children, dtype: int64"
      ]
     },
     "execution_count": 45,
     "metadata": {},
     "output_type": "execute_result"
    }
   ],
   "source": [
    "df[\"number_of_children\"].value_counts()"
   ]
  },
  {
   "cell_type": "code",
   "execution_count": null,
   "metadata": {},
   "outputs": [],
   "source": []
  },
  {
   "cell_type": "code",
   "execution_count": 46,
   "metadata": {
    "tags": []
   },
   "outputs": [
    {
     "data": {
      "text/plain": [
       "active            2450\n",
       "lightly active    2289\n",
       "light_activity     691\n",
       "very active        669\n",
       "light              334\n",
       "Name: activity_level, dtype: int64"
      ]
     },
     "execution_count": 46,
     "metadata": {},
     "output_type": "execute_result"
    }
   ],
   "source": [
    "df[\"activity_level\"].value_counts()"
   ]
  },
  {
   "cell_type": "code",
   "execution_count": null,
   "metadata": {},
   "outputs": [],
   "source": [
    "# use np.where light and light_activity to lightly active"
   ]
  },
  {
   "cell_type": "code",
   "execution_count": 50,
   "metadata": {
    "tags": []
   },
   "outputs": [
    {
     "data": {
      "text/plain": [
       "0               active\n",
       "1       lightly active\n",
       "2       lightly active\n",
       "3               active\n",
       "4       lightly active\n",
       "             ...      \n",
       "6428            active\n",
       "6429    lightly active\n",
       "6430    lightly active\n",
       "6431            active\n",
       "6432    lightly active\n",
       "Name: activity_level, Length: 6433, dtype: object"
      ]
     },
     "execution_count": 50,
     "metadata": {},
     "output_type": "execute_result"
    }
   ],
   "source": [
    "df[\"activity_level\"] = np.where(df[\"activity_level\"].isin(['light_activity', 'light']), 'lightly active', df[\"activity_level\"])\n",
    "df[\"activity_level\"]"
   ]
  },
  {
   "cell_type": "code",
   "execution_count": null,
   "metadata": {},
   "outputs": [],
   "source": []
  },
  {
   "cell_type": "code",
   "execution_count": 51,
   "metadata": {
    "tags": []
   },
   "outputs": [
    {
     "data": {
      "text/plain": [
       "lightly active    3314\n",
       "active            2450\n",
       "very active        669\n",
       "Name: activity_level, dtype: int64"
      ]
     },
     "execution_count": 51,
     "metadata": {},
     "output_type": "execute_result"
    }
   ],
   "source": [
    "df[\"activity_level\"].value_counts()"
   ]
  },
  {
   "cell_type": "code",
   "execution_count": null,
   "metadata": {},
   "outputs": [],
   "source": []
  },
  {
   "cell_type": "markdown",
   "metadata": {},
   "source": [
    "## 4. Duplicate Data Check"
   ]
  },
  {
   "cell_type": "markdown",
   "metadata": {
    "tags": []
   },
   "source": [
    "* Find any duplicate data\n",
    "* Deal with the duplicate data"
   ]
  },
  {
   "cell_type": "code",
   "execution_count": 55,
   "metadata": {
    "tags": []
   },
   "outputs": [
    {
     "data": {
      "text/html": [
       "<div>\n",
       "<style scoped>\n",
       "    .dataframe tbody tr th:only-of-type {\n",
       "        vertical-align: middle;\n",
       "    }\n",
       "\n",
       "    .dataframe tbody tr th {\n",
       "        vertical-align: top;\n",
       "    }\n",
       "\n",
       "    .dataframe thead th {\n",
       "        text-align: right;\n",
       "    }\n",
       "</style>\n",
       "<table border=\"1\" class=\"dataframe\">\n",
       "  <thead>\n",
       "    <tr style=\"text-align: right;\">\n",
       "      <th></th>\n",
       "      <th>survey_id</th>\n",
       "      <th>age</th>\n",
       "      <th>number_of_children</th>\n",
       "      <th>activity_level</th>\n",
       "      <th>sleep_quality</th>\n",
       "      <th>number_of_snoozes</th>\n",
       "      <th>alarm_rating</th>\n",
       "    </tr>\n",
       "  </thead>\n",
       "  <tbody>\n",
       "    <tr>\n",
       "      <th>6366</th>\n",
       "      <td>6300</td>\n",
       "      <td>31</td>\n",
       "      <td>2.0</td>\n",
       "      <td>active</td>\n",
       "      <td>5.0</td>\n",
       "      <td>0</td>\n",
       "      <td>3</td>\n",
       "    </tr>\n",
       "    <tr>\n",
       "      <th>6367</th>\n",
       "      <td>6301</td>\n",
       "      <td>27</td>\n",
       "      <td>2.0</td>\n",
       "      <td>lightly active</td>\n",
       "      <td>4.0</td>\n",
       "      <td>0</td>\n",
       "      <td>2</td>\n",
       "    </tr>\n",
       "    <tr>\n",
       "      <th>6368</th>\n",
       "      <td>6302</td>\n",
       "      <td>41</td>\n",
       "      <td>3.0</td>\n",
       "      <td>lightly active</td>\n",
       "      <td>5.0</td>\n",
       "      <td>0</td>\n",
       "      <td>2</td>\n",
       "    </tr>\n",
       "    <tr>\n",
       "      <th>6369</th>\n",
       "      <td>6303</td>\n",
       "      <td>25</td>\n",
       "      <td>0.0</td>\n",
       "      <td>lightly active</td>\n",
       "      <td>5.0</td>\n",
       "      <td>0</td>\n",
       "      <td>5</td>\n",
       "    </tr>\n",
       "    <tr>\n",
       "      <th>6370</th>\n",
       "      <td>6304</td>\n",
       "      <td>25</td>\n",
       "      <td>1.0</td>\n",
       "      <td>lightly active</td>\n",
       "      <td>5.0</td>\n",
       "      <td>0</td>\n",
       "      <td>2</td>\n",
       "    </tr>\n",
       "    <tr>\n",
       "      <th>...</th>\n",
       "      <td>...</td>\n",
       "      <td>...</td>\n",
       "      <td>...</td>\n",
       "      <td>...</td>\n",
       "      <td>...</td>\n",
       "      <td>...</td>\n",
       "      <td>...</td>\n",
       "    </tr>\n",
       "    <tr>\n",
       "      <th>6428</th>\n",
       "      <td>6362</td>\n",
       "      <td>27</td>\n",
       "      <td>2.0</td>\n",
       "      <td>active</td>\n",
       "      <td>5.0</td>\n",
       "      <td>0</td>\n",
       "      <td>5</td>\n",
       "    </tr>\n",
       "    <tr>\n",
       "      <th>6429</th>\n",
       "      <td>6363</td>\n",
       "      <td>31</td>\n",
       "      <td>1.0</td>\n",
       "      <td>lightly active</td>\n",
       "      <td>4.0</td>\n",
       "      <td>0</td>\n",
       "      <td>4</td>\n",
       "    </tr>\n",
       "    <tr>\n",
       "      <th>6430</th>\n",
       "      <td>6364</td>\n",
       "      <td>26</td>\n",
       "      <td>0.0</td>\n",
       "      <td>lightly active</td>\n",
       "      <td>5.0</td>\n",
       "      <td>0</td>\n",
       "      <td>3</td>\n",
       "    </tr>\n",
       "    <tr>\n",
       "      <th>6431</th>\n",
       "      <td>6365</td>\n",
       "      <td>27</td>\n",
       "      <td>1.0</td>\n",
       "      <td>active</td>\n",
       "      <td>5.0</td>\n",
       "      <td>0</td>\n",
       "      <td>3</td>\n",
       "    </tr>\n",
       "    <tr>\n",
       "      <th>6432</th>\n",
       "      <td>6366</td>\n",
       "      <td>18</td>\n",
       "      <td>0.0</td>\n",
       "      <td>lightly active</td>\n",
       "      <td>4.0</td>\n",
       "      <td>0</td>\n",
       "      <td>1</td>\n",
       "    </tr>\n",
       "  </tbody>\n",
       "</table>\n",
       "<p>67 rows × 7 columns</p>\n",
       "</div>"
      ],
      "text/plain": [
       "      survey_id  age  number_of_children  activity_level  sleep_quality  \\\n",
       "6366       6300   31                 2.0          active            5.0   \n",
       "6367       6301   27                 2.0  lightly active            4.0   \n",
       "6368       6302   41                 3.0  lightly active            5.0   \n",
       "6369       6303   25                 0.0  lightly active            5.0   \n",
       "6370       6304   25                 1.0  lightly active            5.0   \n",
       "...         ...  ...                 ...             ...            ...   \n",
       "6428       6362   27                 2.0          active            5.0   \n",
       "6429       6363   31                 1.0  lightly active            4.0   \n",
       "6430       6364   26                 0.0  lightly active            5.0   \n",
       "6431       6365   27                 1.0          active            5.0   \n",
       "6432       6366   18                 0.0  lightly active            4.0   \n",
       "\n",
       "      number_of_snoozes  alarm_rating  \n",
       "6366                  0             3  \n",
       "6367                  0             2  \n",
       "6368                  0             2  \n",
       "6369                  0             5  \n",
       "6370                  0             2  \n",
       "...                 ...           ...  \n",
       "6428                  0             5  \n",
       "6429                  0             4  \n",
       "6430                  0             3  \n",
       "6431                  0             3  \n",
       "6432                  0             1  \n",
       "\n",
       "[67 rows x 7 columns]"
      ]
     },
     "execution_count": 55,
     "metadata": {},
     "output_type": "execute_result"
    }
   ],
   "source": [
    "df[df.duplicated()]"
   ]
  },
  {
   "cell_type": "code",
   "execution_count": 56,
   "metadata": {
    "tags": []
   },
   "outputs": [
    {
     "data": {
      "text/html": [
       "<div>\n",
       "<style scoped>\n",
       "    .dataframe tbody tr th:only-of-type {\n",
       "        vertical-align: middle;\n",
       "    }\n",
       "\n",
       "    .dataframe tbody tr th {\n",
       "        vertical-align: top;\n",
       "    }\n",
       "\n",
       "    .dataframe thead th {\n",
       "        text-align: right;\n",
       "    }\n",
       "</style>\n",
       "<table border=\"1\" class=\"dataframe\">\n",
       "  <thead>\n",
       "    <tr style=\"text-align: right;\">\n",
       "      <th></th>\n",
       "      <th>survey_id</th>\n",
       "      <th>age</th>\n",
       "      <th>number_of_children</th>\n",
       "      <th>activity_level</th>\n",
       "      <th>sleep_quality</th>\n",
       "      <th>number_of_snoozes</th>\n",
       "      <th>alarm_rating</th>\n",
       "    </tr>\n",
       "  </thead>\n",
       "  <tbody>\n",
       "    <tr>\n",
       "      <th>6299</th>\n",
       "      <td>6300</td>\n",
       "      <td>31</td>\n",
       "      <td>2.0</td>\n",
       "      <td>active</td>\n",
       "      <td>5.0</td>\n",
       "      <td>0</td>\n",
       "      <td>3</td>\n",
       "    </tr>\n",
       "    <tr>\n",
       "      <th>6300</th>\n",
       "      <td>6301</td>\n",
       "      <td>27</td>\n",
       "      <td>2.0</td>\n",
       "      <td>lightly active</td>\n",
       "      <td>4.0</td>\n",
       "      <td>0</td>\n",
       "      <td>2</td>\n",
       "    </tr>\n",
       "    <tr>\n",
       "      <th>6301</th>\n",
       "      <td>6302</td>\n",
       "      <td>41</td>\n",
       "      <td>3.0</td>\n",
       "      <td>lightly active</td>\n",
       "      <td>5.0</td>\n",
       "      <td>0</td>\n",
       "      <td>2</td>\n",
       "    </tr>\n",
       "    <tr>\n",
       "      <th>6302</th>\n",
       "      <td>6303</td>\n",
       "      <td>25</td>\n",
       "      <td>0.0</td>\n",
       "      <td>lightly active</td>\n",
       "      <td>5.0</td>\n",
       "      <td>0</td>\n",
       "      <td>5</td>\n",
       "    </tr>\n",
       "    <tr>\n",
       "      <th>6303</th>\n",
       "      <td>6304</td>\n",
       "      <td>25</td>\n",
       "      <td>1.0</td>\n",
       "      <td>lightly active</td>\n",
       "      <td>5.0</td>\n",
       "      <td>0</td>\n",
       "      <td>2</td>\n",
       "    </tr>\n",
       "    <tr>\n",
       "      <th>...</th>\n",
       "      <td>...</td>\n",
       "      <td>...</td>\n",
       "      <td>...</td>\n",
       "      <td>...</td>\n",
       "      <td>...</td>\n",
       "      <td>...</td>\n",
       "      <td>...</td>\n",
       "    </tr>\n",
       "    <tr>\n",
       "      <th>6428</th>\n",
       "      <td>6362</td>\n",
       "      <td>27</td>\n",
       "      <td>2.0</td>\n",
       "      <td>active</td>\n",
       "      <td>5.0</td>\n",
       "      <td>0</td>\n",
       "      <td>5</td>\n",
       "    </tr>\n",
       "    <tr>\n",
       "      <th>6429</th>\n",
       "      <td>6363</td>\n",
       "      <td>31</td>\n",
       "      <td>1.0</td>\n",
       "      <td>lightly active</td>\n",
       "      <td>4.0</td>\n",
       "      <td>0</td>\n",
       "      <td>4</td>\n",
       "    </tr>\n",
       "    <tr>\n",
       "      <th>6430</th>\n",
       "      <td>6364</td>\n",
       "      <td>26</td>\n",
       "      <td>0.0</td>\n",
       "      <td>lightly active</td>\n",
       "      <td>5.0</td>\n",
       "      <td>0</td>\n",
       "      <td>3</td>\n",
       "    </tr>\n",
       "    <tr>\n",
       "      <th>6431</th>\n",
       "      <td>6365</td>\n",
       "      <td>27</td>\n",
       "      <td>1.0</td>\n",
       "      <td>active</td>\n",
       "      <td>5.0</td>\n",
       "      <td>0</td>\n",
       "      <td>3</td>\n",
       "    </tr>\n",
       "    <tr>\n",
       "      <th>6432</th>\n",
       "      <td>6366</td>\n",
       "      <td>18</td>\n",
       "      <td>0.0</td>\n",
       "      <td>lightly active</td>\n",
       "      <td>4.0</td>\n",
       "      <td>0</td>\n",
       "      <td>1</td>\n",
       "    </tr>\n",
       "  </tbody>\n",
       "</table>\n",
       "<p>134 rows × 7 columns</p>\n",
       "</div>"
      ],
      "text/plain": [
       "      survey_id  age  number_of_children  activity_level  sleep_quality  \\\n",
       "6299       6300   31                 2.0          active            5.0   \n",
       "6300       6301   27                 2.0  lightly active            4.0   \n",
       "6301       6302   41                 3.0  lightly active            5.0   \n",
       "6302       6303   25                 0.0  lightly active            5.0   \n",
       "6303       6304   25                 1.0  lightly active            5.0   \n",
       "...         ...  ...                 ...             ...            ...   \n",
       "6428       6362   27                 2.0          active            5.0   \n",
       "6429       6363   31                 1.0  lightly active            4.0   \n",
       "6430       6364   26                 0.0  lightly active            5.0   \n",
       "6431       6365   27                 1.0          active            5.0   \n",
       "6432       6366   18                 0.0  lightly active            4.0   \n",
       "\n",
       "      number_of_snoozes  alarm_rating  \n",
       "6299                  0             3  \n",
       "6300                  0             2  \n",
       "6301                  0             2  \n",
       "6302                  0             5  \n",
       "6303                  0             2  \n",
       "...                 ...           ...  \n",
       "6428                  0             5  \n",
       "6429                  0             4  \n",
       "6430                  0             3  \n",
       "6431                  0             3  \n",
       "6432                  0             1  \n",
       "\n",
       "[134 rows x 7 columns]"
      ]
     },
     "execution_count": 56,
     "metadata": {},
     "output_type": "execute_result"
    }
   ],
   "source": [
    "df[df.duplicated(keep=False)]"
   ]
  },
  {
   "cell_type": "code",
   "execution_count": 57,
   "metadata": {
    "tags": []
   },
   "outputs": [],
   "source": [
    "df.drop_duplicates(inplace=True)"
   ]
  },
  {
   "cell_type": "code",
   "execution_count": 59,
   "metadata": {
    "tags": []
   },
   "outputs": [
    {
     "data": {
      "text/html": [
       "<div>\n",
       "<style scoped>\n",
       "    .dataframe tbody tr th:only-of-type {\n",
       "        vertical-align: middle;\n",
       "    }\n",
       "\n",
       "    .dataframe tbody tr th {\n",
       "        vertical-align: top;\n",
       "    }\n",
       "\n",
       "    .dataframe thead th {\n",
       "        text-align: right;\n",
       "    }\n",
       "</style>\n",
       "<table border=\"1\" class=\"dataframe\">\n",
       "  <thead>\n",
       "    <tr style=\"text-align: right;\">\n",
       "      <th></th>\n",
       "      <th>survey_id</th>\n",
       "      <th>age</th>\n",
       "      <th>number_of_children</th>\n",
       "      <th>activity_level</th>\n",
       "      <th>sleep_quality</th>\n",
       "      <th>number_of_snoozes</th>\n",
       "      <th>alarm_rating</th>\n",
       "    </tr>\n",
       "  </thead>\n",
       "  <tbody>\n",
       "  </tbody>\n",
       "</table>\n",
       "</div>"
      ],
      "text/plain": [
       "Empty DataFrame\n",
       "Columns: [survey_id, age, number_of_children, activity_level, sleep_quality, number_of_snoozes, alarm_rating]\n",
       "Index: []"
      ]
     },
     "execution_count": 59,
     "metadata": {},
     "output_type": "execute_result"
    }
   ],
   "source": [
    "df[df.duplicated()]"
   ]
  },
  {
   "cell_type": "code",
   "execution_count": null,
   "metadata": {},
   "outputs": [],
   "source": [
    "# we can invert the duplicates, then keep them\n",
    "\n",
    "# df[~df.duplicated()]"
   ]
  },
  {
   "cell_type": "code",
   "execution_count": null,
   "metadata": {},
   "outputs": [],
   "source": []
  },
  {
   "cell_type": "code",
   "execution_count": null,
   "metadata": {},
   "outputs": [],
   "source": []
  },
  {
   "cell_type": "markdown",
   "metadata": {},
   "source": [
    "## 5. Outliers Check"
   ]
  },
  {
   "cell_type": "markdown",
   "metadata": {},
   "source": [
    "* Find any outliers\n",
    "* Deal with the outliers"
   ]
  },
  {
   "cell_type": "code",
   "execution_count": 60,
   "metadata": {
    "tags": []
   },
   "outputs": [
    {
     "data": {
      "text/html": [
       "<div>\n",
       "<style scoped>\n",
       "    .dataframe tbody tr th:only-of-type {\n",
       "        vertical-align: middle;\n",
       "    }\n",
       "\n",
       "    .dataframe tbody tr th {\n",
       "        vertical-align: top;\n",
       "    }\n",
       "\n",
       "    .dataframe thead th {\n",
       "        text-align: right;\n",
       "    }\n",
       "</style>\n",
       "<table border=\"1\" class=\"dataframe\">\n",
       "  <thead>\n",
       "    <tr style=\"text-align: right;\">\n",
       "      <th></th>\n",
       "      <th>survey_id</th>\n",
       "      <th>age</th>\n",
       "      <th>number_of_children</th>\n",
       "      <th>activity_level</th>\n",
       "      <th>sleep_quality</th>\n",
       "      <th>number_of_snoozes</th>\n",
       "      <th>alarm_rating</th>\n",
       "    </tr>\n",
       "  </thead>\n",
       "  <tbody>\n",
       "    <tr>\n",
       "      <th>0</th>\n",
       "      <td>1</td>\n",
       "      <td>34</td>\n",
       "      <td>3.0</td>\n",
       "      <td>active</td>\n",
       "      <td>3.0</td>\n",
       "      <td>1</td>\n",
       "      <td>5</td>\n",
       "    </tr>\n",
       "    <tr>\n",
       "      <th>1</th>\n",
       "      <td>2</td>\n",
       "      <td>31</td>\n",
       "      <td>3.0</td>\n",
       "      <td>lightly active</td>\n",
       "      <td>3.0</td>\n",
       "      <td>3</td>\n",
       "      <td>3</td>\n",
       "    </tr>\n",
       "    <tr>\n",
       "      <th>2</th>\n",
       "      <td>3</td>\n",
       "      <td>18</td>\n",
       "      <td>0.0</td>\n",
       "      <td>lightly active</td>\n",
       "      <td>4.0</td>\n",
       "      <td>1</td>\n",
       "      <td>1</td>\n",
       "    </tr>\n",
       "    <tr>\n",
       "      <th>3</th>\n",
       "      <td>4</td>\n",
       "      <td>42</td>\n",
       "      <td>4.0</td>\n",
       "      <td>active</td>\n",
       "      <td>4.0</td>\n",
       "      <td>1</td>\n",
       "      <td>4</td>\n",
       "    </tr>\n",
       "    <tr>\n",
       "      <th>4</th>\n",
       "      <td>5</td>\n",
       "      <td>30</td>\n",
       "      <td>1.0</td>\n",
       "      <td>lightly active</td>\n",
       "      <td>1.0</td>\n",
       "      <td>4</td>\n",
       "      <td>3</td>\n",
       "    </tr>\n",
       "  </tbody>\n",
       "</table>\n",
       "</div>"
      ],
      "text/plain": [
       "   survey_id  age  number_of_children  activity_level  sleep_quality  \\\n",
       "0          1   34                 3.0          active            3.0   \n",
       "1          2   31                 3.0  lightly active            3.0   \n",
       "2          3   18                 0.0  lightly active            4.0   \n",
       "3          4   42                 4.0          active            4.0   \n",
       "4          5   30                 1.0  lightly active            1.0   \n",
       "\n",
       "   number_of_snoozes  alarm_rating  \n",
       "0                  1             5  \n",
       "1                  3             3  \n",
       "2                  1             1  \n",
       "3                  1             4  \n",
       "4                  4             3  "
      ]
     },
     "execution_count": 60,
     "metadata": {},
     "output_type": "execute_result"
    }
   ],
   "source": [
    "df.head()"
   ]
  },
  {
   "cell_type": "code",
   "execution_count": null,
   "metadata": {},
   "outputs": [],
   "source": []
  },
  {
   "cell_type": "code",
   "execution_count": 63,
   "metadata": {
    "tags": []
   },
   "outputs": [
    {
     "data": {
      "image/png": "[encoded data removed]",
      "text/plain": [
       "<Figure size 600x800 with 6 Axes>"
      ]
     },
     "metadata": {},
     "output_type": "display_data"
    }
   ],
   "source": [
    "df.hist(figsize = (6, 8));"
   ]
  },
  {
   "cell_type": "code",
   "execution_count": null,
   "metadata": {},
   "outputs": [],
   "source": []
  },
  {
   "cell_type": "code",
   "execution_count": 66,
   "metadata": {
    "tags": []
   },
   "outputs": [
    {
     "data": {
      "text/plain": [
       "<Axes: xlabel='number_of_snoozes', ylabel='Count'>"
      ]
     },
     "execution_count": 66,
     "metadata": {},
     "output_type": "execute_result"
    },
    {
     "data": {
      "image/png": "[encoded data removed]",
      "text/plain": [
       "<Figure size 640x480 with 1 Axes>"
      ]
     },
     "metadata": {},
     "output_type": "display_data"
    }
   ],
   "source": [
    "sns.histplot(df[\"number_of_snoozes\"])"
   ]
  },
  {
   "cell_type": "code",
   "execution_count": null,
   "metadata": {},
   "outputs": [],
   "source": []
  },
  {
   "cell_type": "code",
   "execution_count": 67,
   "metadata": {
    "tags": []
   },
   "outputs": [
    {
     "data": {
      "text/plain": [
       "<Axes: xlabel='number_of_snoozes'>"
      ]
     },
     "execution_count": 67,
     "metadata": {},
     "output_type": "execute_result"
    },
    {
     "data": {
      "image/png": "[encoded data removed]",
      "text/plain": [
       "<Figure size 640x480 with 1 Axes>"
      ]
     },
     "metadata": {},
     "output_type": "display_data"
    }
   ],
   "source": [
    "sns.boxplot(x = df[\"number_of_snoozes\"])"
   ]
  },
  {
   "cell_type": "code",
   "execution_count": null,
   "metadata": {},
   "outputs": [],
   "source": []
  },
  {
   "cell_type": "code",
   "execution_count": 68,
   "metadata": {
    "tags": []
   },
   "outputs": [
    {
     "data": {
      "text/plain": [
       "0     3300\n",
       "1     1229\n",
       "2      693\n",
       "4      427\n",
       "5      345\n",
       "3      309\n",
       "6       59\n",
       "8        2\n",
       "19       1\n",
       "7        1\n",
       "Name: number_of_snoozes, dtype: int64"
      ]
     },
     "execution_count": 68,
     "metadata": {},
     "output_type": "execute_result"
    }
   ],
   "source": [
    "df[\"number_of_snoozes\"].value_counts()"
   ]
  },
  {
   "cell_type": "code",
   "execution_count": null,
   "metadata": {},
   "outputs": [],
   "source": []
  },
  {
   "cell_type": "code",
   "execution_count": 69,
   "metadata": {
    "tags": []
   },
   "outputs": [
    {
     "data": {
      "text/html": [
       "<div>\n",
       "<style scoped>\n",
       "    .dataframe tbody tr th:only-of-type {\n",
       "        vertical-align: middle;\n",
       "    }\n",
       "\n",
       "    .dataframe tbody tr th {\n",
       "        vertical-align: top;\n",
       "    }\n",
       "\n",
       "    .dataframe thead th {\n",
       "        text-align: right;\n",
       "    }\n",
       "</style>\n",
       "<table border=\"1\" class=\"dataframe\">\n",
       "  <thead>\n",
       "    <tr style=\"text-align: right;\">\n",
       "      <th></th>\n",
       "      <th>survey_id</th>\n",
       "      <th>age</th>\n",
       "      <th>number_of_children</th>\n",
       "      <th>activity_level</th>\n",
       "      <th>sleep_quality</th>\n",
       "      <th>number_of_snoozes</th>\n",
       "      <th>alarm_rating</th>\n",
       "    </tr>\n",
       "  </thead>\n",
       "  <tbody>\n",
       "    <tr>\n",
       "      <th>749</th>\n",
       "      <td>750</td>\n",
       "      <td>19</td>\n",
       "      <td>1.0</td>\n",
       "      <td>lightly active</td>\n",
       "      <td>5.0</td>\n",
       "      <td>19</td>\n",
       "      <td>3</td>\n",
       "    </tr>\n",
       "  </tbody>\n",
       "</table>\n",
       "</div>"
      ],
      "text/plain": [
       "     survey_id  age  number_of_children  activity_level  sleep_quality  \\\n",
       "749        750   19                 1.0  lightly active            5.0   \n",
       "\n",
       "     number_of_snoozes  alarm_rating  \n",
       "749                 19             3  "
      ]
     },
     "execution_count": 69,
     "metadata": {},
     "output_type": "execute_result"
    }
   ],
   "source": [
    "# filter out the extreme outlier\n",
    "\n",
    "df[df[\"number_of_snoozes\"] >= 19]"
   ]
  },
  {
   "cell_type": "code",
   "execution_count": 71,
   "metadata": {
    "tags": []
   },
   "outputs": [
    {
     "data": {
      "text/html": [
       "<div>\n",
       "<style scoped>\n",
       "    .dataframe tbody tr th:only-of-type {\n",
       "        vertical-align: middle;\n",
       "    }\n",
       "\n",
       "    .dataframe tbody tr th {\n",
       "        vertical-align: top;\n",
       "    }\n",
       "\n",
       "    .dataframe thead th {\n",
       "        text-align: right;\n",
       "    }\n",
       "</style>\n",
       "<table border=\"1\" class=\"dataframe\">\n",
       "  <thead>\n",
       "    <tr style=\"text-align: right;\">\n",
       "      <th></th>\n",
       "      <th>survey_id</th>\n",
       "      <th>age</th>\n",
       "      <th>number_of_children</th>\n",
       "      <th>activity_level</th>\n",
       "      <th>sleep_quality</th>\n",
       "      <th>number_of_snoozes</th>\n",
       "      <th>alarm_rating</th>\n",
       "    </tr>\n",
       "  </thead>\n",
       "  <tbody>\n",
       "    <tr>\n",
       "      <th>0</th>\n",
       "      <td>1</td>\n",
       "      <td>34</td>\n",
       "      <td>3.0</td>\n",
       "      <td>active</td>\n",
       "      <td>3.0</td>\n",
       "      <td>1</td>\n",
       "      <td>5</td>\n",
       "    </tr>\n",
       "    <tr>\n",
       "      <th>1</th>\n",
       "      <td>2</td>\n",
       "      <td>31</td>\n",
       "      <td>3.0</td>\n",
       "      <td>lightly active</td>\n",
       "      <td>3.0</td>\n",
       "      <td>3</td>\n",
       "      <td>3</td>\n",
       "    </tr>\n",
       "    <tr>\n",
       "      <th>2</th>\n",
       "      <td>3</td>\n",
       "      <td>18</td>\n",
       "      <td>0.0</td>\n",
       "      <td>lightly active</td>\n",
       "      <td>4.0</td>\n",
       "      <td>1</td>\n",
       "      <td>1</td>\n",
       "    </tr>\n",
       "    <tr>\n",
       "      <th>3</th>\n",
       "      <td>4</td>\n",
       "      <td>42</td>\n",
       "      <td>4.0</td>\n",
       "      <td>active</td>\n",
       "      <td>4.0</td>\n",
       "      <td>1</td>\n",
       "      <td>4</td>\n",
       "    </tr>\n",
       "    <tr>\n",
       "      <th>4</th>\n",
       "      <td>5</td>\n",
       "      <td>30</td>\n",
       "      <td>1.0</td>\n",
       "      <td>lightly active</td>\n",
       "      <td>1.0</td>\n",
       "      <td>4</td>\n",
       "      <td>3</td>\n",
       "    </tr>\n",
       "    <tr>\n",
       "      <th>...</th>\n",
       "      <td>...</td>\n",
       "      <td>...</td>\n",
       "      <td>...</td>\n",
       "      <td>...</td>\n",
       "      <td>...</td>\n",
       "      <td>...</td>\n",
       "      <td>...</td>\n",
       "    </tr>\n",
       "    <tr>\n",
       "      <th>6361</th>\n",
       "      <td>6362</td>\n",
       "      <td>27</td>\n",
       "      <td>2.0</td>\n",
       "      <td>active</td>\n",
       "      <td>5.0</td>\n",
       "      <td>0</td>\n",
       "      <td>5</td>\n",
       "    </tr>\n",
       "    <tr>\n",
       "      <th>6362</th>\n",
       "      <td>6363</td>\n",
       "      <td>31</td>\n",
       "      <td>1.0</td>\n",
       "      <td>lightly active</td>\n",
       "      <td>4.0</td>\n",
       "      <td>0</td>\n",
       "      <td>4</td>\n",
       "    </tr>\n",
       "    <tr>\n",
       "      <th>6363</th>\n",
       "      <td>6364</td>\n",
       "      <td>26</td>\n",
       "      <td>0.0</td>\n",
       "      <td>lightly active</td>\n",
       "      <td>5.0</td>\n",
       "      <td>0</td>\n",
       "      <td>3</td>\n",
       "    </tr>\n",
       "    <tr>\n",
       "      <th>6364</th>\n",
       "      <td>6365</td>\n",
       "      <td>27</td>\n",
       "      <td>1.0</td>\n",
       "      <td>active</td>\n",
       "      <td>5.0</td>\n",
       "      <td>0</td>\n",
       "      <td>3</td>\n",
       "    </tr>\n",
       "    <tr>\n",
       "      <th>6365</th>\n",
       "      <td>6366</td>\n",
       "      <td>18</td>\n",
       "      <td>0.0</td>\n",
       "      <td>lightly active</td>\n",
       "      <td>4.0</td>\n",
       "      <td>0</td>\n",
       "      <td>1</td>\n",
       "    </tr>\n",
       "  </tbody>\n",
       "</table>\n",
       "<p>6365 rows × 7 columns</p>\n",
       "</div>"
      ],
      "text/plain": [
       "      survey_id  age  number_of_children  activity_level  sleep_quality  \\\n",
       "0             1   34                 3.0          active            3.0   \n",
       "1             2   31                 3.0  lightly active            3.0   \n",
       "2             3   18                 0.0  lightly active            4.0   \n",
       "3             4   42                 4.0          active            4.0   \n",
       "4             5   30                 1.0  lightly active            1.0   \n",
       "...         ...  ...                 ...             ...            ...   \n",
       "6361       6362   27                 2.0          active            5.0   \n",
       "6362       6363   31                 1.0  lightly active            4.0   \n",
       "6363       6364   26                 0.0  lightly active            5.0   \n",
       "6364       6365   27                 1.0          active            5.0   \n",
       "6365       6366   18                 0.0  lightly active            4.0   \n",
       "\n",
       "      number_of_snoozes  alarm_rating  \n",
       "0                     1             5  \n",
       "1                     3             3  \n",
       "2                     1             1  \n",
       "3                     1             4  \n",
       "4                     4             3  \n",
       "...                 ...           ...  \n",
       "6361                  0             5  \n",
       "6362                  0             4  \n",
       "6363                  0             3  \n",
       "6364                  0             3  \n",
       "6365                  0             1  \n",
       "\n",
       "[6365 rows x 7 columns]"
      ]
     },
     "execution_count": 71,
     "metadata": {},
     "output_type": "execute_result"
    }
   ],
   "source": [
    "df = df[df[\"number_of_snoozes\"] < 19]\n",
    "df"
   ]
  },
  {
   "cell_type": "code",
   "execution_count": null,
   "metadata": {},
   "outputs": [],
   "source": []
  },
  {
   "cell_type": "markdown",
   "metadata": {},
   "source": [
    "## 6. Data Issues Check"
   ]
  },
  {
   "cell_type": "markdown",
   "metadata": {},
   "source": [
    "* Quickly explore the updated DataFrame. How do things look now after handling the data issues compared to the original DataFrame?"
   ]
  },
  {
   "cell_type": "code",
   "execution_count": 73,
   "metadata": {
    "tags": []
   },
   "outputs": [
    {
     "data": {
      "text/html": [
       "<div>\n",
       "<style scoped>\n",
       "    .dataframe tbody tr th:only-of-type {\n",
       "        vertical-align: middle;\n",
       "    }\n",
       "\n",
       "    .dataframe tbody tr th {\n",
       "        vertical-align: top;\n",
       "    }\n",
       "\n",
       "    .dataframe thead th {\n",
       "        text-align: right;\n",
       "    }\n",
       "</style>\n",
       "<table border=\"1\" class=\"dataframe\">\n",
       "  <thead>\n",
       "    <tr style=\"text-align: right;\">\n",
       "      <th></th>\n",
       "      <th>survey_id</th>\n",
       "      <th>age</th>\n",
       "      <th>number_of_children</th>\n",
       "      <th>activity_level</th>\n",
       "      <th>sleep_quality</th>\n",
       "      <th>number_of_snoozes</th>\n",
       "      <th>alarm_rating</th>\n",
       "    </tr>\n",
       "  </thead>\n",
       "  <tbody>\n",
       "  </tbody>\n",
       "</table>\n",
       "</div>"
      ],
      "text/plain": [
       "Empty DataFrame\n",
       "Columns: [survey_id, age, number_of_children, activity_level, sleep_quality, number_of_snoozes, alarm_rating]\n",
       "Index: []"
      ]
     },
     "execution_count": 73,
     "metadata": {},
     "output_type": "execute_result"
    }
   ],
   "source": [
    "# missing data\n",
    "df[df.isna().any(axis=1)]"
   ]
  },
  {
   "cell_type": "code",
   "execution_count": 74,
   "metadata": {
    "tags": []
   },
   "outputs": [
    {
     "data": {
      "text/plain": [
       "lightly active    3287\n",
       "active            2422\n",
       "very active        656\n",
       "Name: activity_level, dtype: int64"
      ]
     },
     "execution_count": 74,
     "metadata": {},
     "output_type": "execute_result"
    }
   ],
   "source": [
    "# inconsistencies\n",
    "\n",
    "df[\"activity_level\"].value_counts()"
   ]
  },
  {
   "cell_type": "code",
   "execution_count": null,
   "metadata": {},
   "outputs": [],
   "source": []
  },
  {
   "cell_type": "code",
   "execution_count": 75,
   "metadata": {
    "tags": []
   },
   "outputs": [
    {
     "data": {
      "text/html": [
       "<div>\n",
       "<style scoped>\n",
       "    .dataframe tbody tr th:only-of-type {\n",
       "        vertical-align: middle;\n",
       "    }\n",
       "\n",
       "    .dataframe tbody tr th {\n",
       "        vertical-align: top;\n",
       "    }\n",
       "\n",
       "    .dataframe thead th {\n",
       "        text-align: right;\n",
       "    }\n",
       "</style>\n",
       "<table border=\"1\" class=\"dataframe\">\n",
       "  <thead>\n",
       "    <tr style=\"text-align: right;\">\n",
       "      <th></th>\n",
       "      <th>survey_id</th>\n",
       "      <th>age</th>\n",
       "      <th>number_of_children</th>\n",
       "      <th>activity_level</th>\n",
       "      <th>sleep_quality</th>\n",
       "      <th>number_of_snoozes</th>\n",
       "      <th>alarm_rating</th>\n",
       "    </tr>\n",
       "  </thead>\n",
       "  <tbody>\n",
       "  </tbody>\n",
       "</table>\n",
       "</div>"
      ],
      "text/plain": [
       "Empty DataFrame\n",
       "Columns: [survey_id, age, number_of_children, activity_level, sleep_quality, number_of_snoozes, alarm_rating]\n",
       "Index: []"
      ]
     },
     "execution_count": 75,
     "metadata": {},
     "output_type": "execute_result"
    }
   ],
   "source": [
    "# duplicates\n",
    "\n",
    "df[df.duplicated()]"
   ]
  },
  {
   "cell_type": "code",
   "execution_count": null,
   "metadata": {},
   "outputs": [],
   "source": []
  },
  {
   "cell_type": "code",
   "execution_count": 76,
   "metadata": {
    "tags": []
   },
   "outputs": [
    {
     "data": {
      "text/html": [
       "<div>\n",
       "<style scoped>\n",
       "    .dataframe tbody tr th:only-of-type {\n",
       "        vertical-align: middle;\n",
       "    }\n",
       "\n",
       "    .dataframe tbody tr th {\n",
       "        vertical-align: top;\n",
       "    }\n",
       "\n",
       "    .dataframe thead th {\n",
       "        text-align: right;\n",
       "    }\n",
       "</style>\n",
       "<table border=\"1\" class=\"dataframe\">\n",
       "  <thead>\n",
       "    <tr style=\"text-align: right;\">\n",
       "      <th></th>\n",
       "      <th>survey_id</th>\n",
       "      <th>age</th>\n",
       "      <th>number_of_children</th>\n",
       "      <th>sleep_quality</th>\n",
       "      <th>number_of_snoozes</th>\n",
       "      <th>alarm_rating</th>\n",
       "    </tr>\n",
       "  </thead>\n",
       "  <tbody>\n",
       "    <tr>\n",
       "      <th>count</th>\n",
       "      <td>6365.000000</td>\n",
       "      <td>6365.000000</td>\n",
       "      <td>6365.000000</td>\n",
       "      <td>6365.000000</td>\n",
       "      <td>6365.000000</td>\n",
       "      <td>6365.000000</td>\n",
       "    </tr>\n",
       "    <tr>\n",
       "      <th>mean</th>\n",
       "      <td>3183.882325</td>\n",
       "      <td>29.076826</td>\n",
       "      <td>1.396936</td>\n",
       "      <td>4.107620</td>\n",
       "      <td>1.155067</td>\n",
       "      <td>2.955224</td>\n",
       "    </tr>\n",
       "    <tr>\n",
       "      <th>std</th>\n",
       "      <td>1837.741432</td>\n",
       "      <td>7.476376</td>\n",
       "      <td>1.433575</td>\n",
       "      <td>0.963612</td>\n",
       "      <td>1.587979</td>\n",
       "      <td>1.100414</td>\n",
       "    </tr>\n",
       "    <tr>\n",
       "      <th>min</th>\n",
       "      <td>1.000000</td>\n",
       "      <td>13.000000</td>\n",
       "      <td>0.000000</td>\n",
       "      <td>1.000000</td>\n",
       "      <td>0.000000</td>\n",
       "      <td>1.000000</td>\n",
       "    </tr>\n",
       "    <tr>\n",
       "      <th>25%</th>\n",
       "      <td>1593.000000</td>\n",
       "      <td>23.000000</td>\n",
       "      <td>0.000000</td>\n",
       "      <td>4.000000</td>\n",
       "      <td>0.000000</td>\n",
       "      <td>2.000000</td>\n",
       "    </tr>\n",
       "    <tr>\n",
       "      <th>50%</th>\n",
       "      <td>3184.000000</td>\n",
       "      <td>28.000000</td>\n",
       "      <td>1.000000</td>\n",
       "      <td>4.000000</td>\n",
       "      <td>0.000000</td>\n",
       "      <td>3.000000</td>\n",
       "    </tr>\n",
       "    <tr>\n",
       "      <th>75%</th>\n",
       "      <td>4775.000000</td>\n",
       "      <td>34.000000</td>\n",
       "      <td>2.000000</td>\n",
       "      <td>5.000000</td>\n",
       "      <td>2.000000</td>\n",
       "      <td>4.000000</td>\n",
       "    </tr>\n",
       "    <tr>\n",
       "      <th>max</th>\n",
       "      <td>6366.000000</td>\n",
       "      <td>47.000000</td>\n",
       "      <td>5.500000</td>\n",
       "      <td>5.000000</td>\n",
       "      <td>8.000000</td>\n",
       "      <td>5.000000</td>\n",
       "    </tr>\n",
       "  </tbody>\n",
       "</table>\n",
       "</div>"
      ],
      "text/plain": [
       "         survey_id          age  number_of_children  sleep_quality  \\\n",
       "count  6365.000000  6365.000000         6365.000000    6365.000000   \n",
       "mean   3183.882325    29.076826            1.396936       4.107620   \n",
       "std    1837.741432     7.476376            1.433575       0.963612   \n",
       "min       1.000000    13.000000            0.000000       1.000000   \n",
       "25%    1593.000000    23.000000            0.000000       4.000000   \n",
       "50%    3184.000000    28.000000            1.000000       4.000000   \n",
       "75%    4775.000000    34.000000            2.000000       5.000000   \n",
       "max    6366.000000    47.000000            5.500000       5.000000   \n",
       "\n",
       "       number_of_snoozes  alarm_rating  \n",
       "count        6365.000000   6365.000000  \n",
       "mean            1.155067      2.955224  \n",
       "std             1.587979      1.100414  \n",
       "min             0.000000      1.000000  \n",
       "25%             0.000000      2.000000  \n",
       "50%             0.000000      3.000000  \n",
       "75%             2.000000      4.000000  \n",
       "max             8.000000      5.000000  "
      ]
     },
     "execution_count": 76,
     "metadata": {},
     "output_type": "execute_result"
    }
   ],
   "source": [
    "# outliers\n",
    "\n",
    "df.describe()"
   ]
  },
  {
   "cell_type": "code",
   "execution_count": null,
   "metadata": {},
   "outputs": [],
   "source": []
  },
  {
   "cell_type": "markdown",
   "metadata": {},
   "source": [
    "## 7. Create Columns From Numeric Data"
   ]
  },
  {
   "cell_type": "markdown",
   "metadata": {
    "tags": []
   },
   "source": [
    "* Read data into Python\n",
    "* Check the data type of each column\n",
    "* Create a numeric column using arithmetic\n",
    "* Create a numeric column using conditional logic"
   ]
  },
  {
   "cell_type": "code",
   "execution_count": null,
   "metadata": {},
   "outputs": [],
   "source": [
    "# Create a “Total Spend” column that includes both the pen cost and shipping cost for each sale\n",
    "# Create a “Free Shipping” column that says yes if the sale included free shipping, and no otherwise"
   ]
  },
  {
   "cell_type": "code",
   "execution_count": 79,
   "metadata": {
    "tags": []
   },
   "outputs": [],
   "source": [
    "pens = pd.read_excel(\"../Data/Pen Sales Data.xlsx\")"
   ]
  },
  {
   "cell_type": "code",
   "execution_count": 80,
   "metadata": {
    "tags": []
   },
   "outputs": [
    {
     "data": {
      "text/html": [
       "<div>\n",
       "<style scoped>\n",
       "    .dataframe tbody tr th:only-of-type {\n",
       "        vertical-align: middle;\n",
       "    }\n",
       "\n",
       "    .dataframe tbody tr th {\n",
       "        vertical-align: top;\n",
       "    }\n",
       "\n",
       "    .dataframe thead th {\n",
       "        text-align: right;\n",
       "    }\n",
       "</style>\n",
       "<table border=\"1\" class=\"dataframe\">\n",
       "  <thead>\n",
       "    <tr style=\"text-align: right;\">\n",
       "      <th></th>\n",
       "      <th>Customer</th>\n",
       "      <th>Item</th>\n",
       "      <th>Pen Cost</th>\n",
       "      <th>Shipping Cost</th>\n",
       "      <th>Purchase Date</th>\n",
       "      <th>Delivery Date</th>\n",
       "      <th>Review</th>\n",
       "    </tr>\n",
       "  </thead>\n",
       "  <tbody>\n",
       "    <tr>\n",
       "      <th>0</th>\n",
       "      <td>5201</td>\n",
       "      <td>Ballpoint Pens</td>\n",
       "      <td>5.99</td>\n",
       "      <td>2.99</td>\n",
       "      <td>2023-05-01</td>\n",
       "      <td>2023-05-03</td>\n",
       "      <td>DoodleWithMe|I love the way this pen writes, b...</td>\n",
       "    </tr>\n",
       "    <tr>\n",
       "      <th>1</th>\n",
       "      <td>5202</td>\n",
       "      <td>Sharpies</td>\n",
       "      <td>12.99</td>\n",
       "      <td>0.00</td>\n",
       "      <td>2023-05-01</td>\n",
       "      <td>2023-05-04</td>\n",
       "      <td>ScribbleMaster|The classic Sharpie marker has ...</td>\n",
       "    </tr>\n",
       "    <tr>\n",
       "      <th>2</th>\n",
       "      <td>5203</td>\n",
       "      <td>Ballpoint Pens (Bold)</td>\n",
       "      <td>6.95</td>\n",
       "      <td>4.99</td>\n",
       "      <td>2023-05-01</td>\n",
       "      <td>2023-05-02</td>\n",
       "      <td>PenPalForever|The retractable ballpoint pen ha...</td>\n",
       "    </tr>\n",
       "    <tr>\n",
       "      <th>3</th>\n",
       "      <td>5204</td>\n",
       "      <td>Gel Pens</td>\n",
       "      <td>5.99</td>\n",
       "      <td>2.99</td>\n",
       "      <td>2023-05-01</td>\n",
       "      <td>2023-05-04</td>\n",
       "      <td>TheWriteWay|This gel pen has a comfortable gri...</td>\n",
       "    </tr>\n",
       "    <tr>\n",
       "      <th>4</th>\n",
       "      <td>5205</td>\n",
       "      <td>Rollerball Pens</td>\n",
       "      <td>12.99</td>\n",
       "      <td>1.99</td>\n",
       "      <td>2023-05-01</td>\n",
       "      <td>2023-05-03</td>\n",
       "      <td>PenAndPaperPerson|The rollerball pen has a smo...</td>\n",
       "    </tr>\n",
       "  </tbody>\n",
       "</table>\n",
       "</div>"
      ],
      "text/plain": [
       "   Customer                   Item  Pen Cost  Shipping Cost Purchase Date  \\\n",
       "0      5201         Ballpoint Pens      5.99           2.99    2023-05-01   \n",
       "1      5202               Sharpies     12.99           0.00    2023-05-01   \n",
       "2      5203  Ballpoint Pens (Bold)      6.95           4.99    2023-05-01   \n",
       "3      5204               Gel Pens      5.99           2.99    2023-05-01   \n",
       "4      5205        Rollerball Pens     12.99           1.99    2023-05-01   \n",
       "\n",
       "  Delivery Date                                             Review  \n",
       "0    2023-05-03  DoodleWithMe|I love the way this pen writes, b...  \n",
       "1    2023-05-04  ScribbleMaster|The classic Sharpie marker has ...  \n",
       "2    2023-05-02  PenPalForever|The retractable ballpoint pen ha...  \n",
       "3    2023-05-04  TheWriteWay|This gel pen has a comfortable gri...  \n",
       "4    2023-05-03  PenAndPaperPerson|The rollerball pen has a smo...  "
      ]
     },
     "execution_count": 80,
     "metadata": {},
     "output_type": "execute_result"
    }
   ],
   "source": [
    "pens.head()"
   ]
  },
  {
   "cell_type": "code",
   "execution_count": null,
   "metadata": {},
   "outputs": [],
   "source": []
  },
  {
   "cell_type": "code",
   "execution_count": 81,
   "metadata": {
    "tags": []
   },
   "outputs": [
    {
     "data": {
      "text/plain": [
       "Customer                  int64\n",
       "Item                     object\n",
       "Pen Cost                float64\n",
       "Shipping Cost           float64\n",
       "Purchase Date    datetime64[ns]\n",
       "Delivery Date    datetime64[ns]\n",
       "Review                   object\n",
       "dtype: object"
      ]
     },
     "execution_count": 81,
     "metadata": {},
     "output_type": "execute_result"
    }
   ],
   "source": [
    "pens.dtypes"
   ]
  },
  {
   "cell_type": "code",
   "execution_count": 83,
   "metadata": {
    "tags": []
   },
   "outputs": [],
   "source": [
    "# Create a “Total Spend” column that includes both the pen cost and shipping cost for each sale\n",
    "\n",
    "pens[\"Total Spend\"] = pens[\"Pen Cost\"] + pens[\"Shipping Cost\"]"
   ]
  },
  {
   "cell_type": "code",
   "execution_count": 84,
   "metadata": {
    "tags": []
   },
   "outputs": [
    {
     "data": {
      "text/html": [
       "<div>\n",
       "<style scoped>\n",
       "    .dataframe tbody tr th:only-of-type {\n",
       "        vertical-align: middle;\n",
       "    }\n",
       "\n",
       "    .dataframe tbody tr th {\n",
       "        vertical-align: top;\n",
       "    }\n",
       "\n",
       "    .dataframe thead th {\n",
       "        text-align: right;\n",
       "    }\n",
       "</style>\n",
       "<table border=\"1\" class=\"dataframe\">\n",
       "  <thead>\n",
       "    <tr style=\"text-align: right;\">\n",
       "      <th></th>\n",
       "      <th>Customer</th>\n",
       "      <th>Item</th>\n",
       "      <th>Pen Cost</th>\n",
       "      <th>Shipping Cost</th>\n",
       "      <th>Purchase Date</th>\n",
       "      <th>Delivery Date</th>\n",
       "      <th>Review</th>\n",
       "      <th>Total Spend</th>\n",
       "    </tr>\n",
       "  </thead>\n",
       "  <tbody>\n",
       "    <tr>\n",
       "      <th>0</th>\n",
       "      <td>5201</td>\n",
       "      <td>Ballpoint Pens</td>\n",
       "      <td>5.99</td>\n",
       "      <td>2.99</td>\n",
       "      <td>2023-05-01</td>\n",
       "      <td>2023-05-03</td>\n",
       "      <td>DoodleWithMe|I love the way this pen writes, b...</td>\n",
       "      <td>8.98</td>\n",
       "    </tr>\n",
       "    <tr>\n",
       "      <th>1</th>\n",
       "      <td>5202</td>\n",
       "      <td>Sharpies</td>\n",
       "      <td>12.99</td>\n",
       "      <td>0.00</td>\n",
       "      <td>2023-05-01</td>\n",
       "      <td>2023-05-04</td>\n",
       "      <td>ScribbleMaster|The classic Sharpie marker has ...</td>\n",
       "      <td>12.99</td>\n",
       "    </tr>\n",
       "    <tr>\n",
       "      <th>2</th>\n",
       "      <td>5203</td>\n",
       "      <td>Ballpoint Pens (Bold)</td>\n",
       "      <td>6.95</td>\n",
       "      <td>4.99</td>\n",
       "      <td>2023-05-01</td>\n",
       "      <td>2023-05-02</td>\n",
       "      <td>PenPalForever|The retractable ballpoint pen ha...</td>\n",
       "      <td>11.94</td>\n",
       "    </tr>\n",
       "    <tr>\n",
       "      <th>3</th>\n",
       "      <td>5204</td>\n",
       "      <td>Gel Pens</td>\n",
       "      <td>5.99</td>\n",
       "      <td>2.99</td>\n",
       "      <td>2023-05-01</td>\n",
       "      <td>2023-05-04</td>\n",
       "      <td>TheWriteWay|This gel pen has a comfortable gri...</td>\n",
       "      <td>8.98</td>\n",
       "    </tr>\n",
       "    <tr>\n",
       "      <th>4</th>\n",
       "      <td>5205</td>\n",
       "      <td>Rollerball Pens</td>\n",
       "      <td>12.99</td>\n",
       "      <td>1.99</td>\n",
       "      <td>2023-05-01</td>\n",
       "      <td>2023-05-03</td>\n",
       "      <td>PenAndPaperPerson|The rollerball pen has a smo...</td>\n",
       "      <td>14.98</td>\n",
       "    </tr>\n",
       "  </tbody>\n",
       "</table>\n",
       "</div>"
      ],
      "text/plain": [
       "   Customer                   Item  Pen Cost  Shipping Cost Purchase Date  \\\n",
       "0      5201         Ballpoint Pens      5.99           2.99    2023-05-01   \n",
       "1      5202               Sharpies     12.99           0.00    2023-05-01   \n",
       "2      5203  Ballpoint Pens (Bold)      6.95           4.99    2023-05-01   \n",
       "3      5204               Gel Pens      5.99           2.99    2023-05-01   \n",
       "4      5205        Rollerball Pens     12.99           1.99    2023-05-01   \n",
       "\n",
       "  Delivery Date                                             Review  \\\n",
       "0    2023-05-03  DoodleWithMe|I love the way this pen writes, b...   \n",
       "1    2023-05-04  ScribbleMaster|The classic Sharpie marker has ...   \n",
       "2    2023-05-02  PenPalForever|The retractable ballpoint pen ha...   \n",
       "3    2023-05-04  TheWriteWay|This gel pen has a comfortable gri...   \n",
       "4    2023-05-03  PenAndPaperPerson|The rollerball pen has a smo...   \n",
       "\n",
       "   Total Spend  \n",
       "0         8.98  \n",
       "1        12.99  \n",
       "2        11.94  \n",
       "3         8.98  \n",
       "4        14.98  "
      ]
     },
     "execution_count": 84,
     "metadata": {},
     "output_type": "execute_result"
    }
   ],
   "source": [
    "pens.head()"
   ]
  },
  {
   "cell_type": "code",
   "execution_count": null,
   "metadata": {},
   "outputs": [],
   "source": []
  },
  {
   "cell_type": "code",
   "execution_count": null,
   "metadata": {},
   "outputs": [],
   "source": []
  },
  {
   "cell_type": "code",
   "execution_count": 88,
   "metadata": {
    "tags": []
   },
   "outputs": [],
   "source": [
    "# Create a “Free Shipping” column that says yes if the sale included free shipping, and no otherwise\n",
    "\n",
    "pens[\"Free Shipping\"] = np.where(pens[\"Shipping Cost\"] == 0, 'Yes', 'No')"
   ]
  },
  {
   "cell_type": "code",
   "execution_count": null,
   "metadata": {},
   "outputs": [],
   "source": []
  },
  {
   "cell_type": "code",
   "execution_count": null,
   "metadata": {},
   "outputs": [],
   "source": [
    "## 8. Create Columns From DateTime Data"
   ]
  },
  {
   "cell_type": "markdown",
   "metadata": {
    "tags": []
   },
   "source": [
    "* Calculate the difference between two datetime columns and save it as a new column\n",
    "* Take the average of a column"
   ]
  },
  {
   "cell_type": "code",
   "execution_count": null,
   "metadata": {},
   "outputs": [],
   "source": [
    "# Calculate the number of days between the purchase and delivery date for each sale\n",
    "# Save it as a new column called “Delivery Time”\n",
    "# What were the average days from purchase to delivery?"
   ]
  },
  {
   "cell_type": "code",
   "execution_count": null,
   "metadata": {},
   "outputs": [],
   "source": []
  },
  {
   "cell_type": "code",
   "execution_count": 90,
   "metadata": {
    "tags": []
   },
   "outputs": [
    {
     "data": {
      "text/html": [
       "<div>\n",
       "<style scoped>\n",
       "    .dataframe tbody tr th:only-of-type {\n",
       "        vertical-align: middle;\n",
       "    }\n",
       "\n",
       "    .dataframe tbody tr th {\n",
       "        vertical-align: top;\n",
       "    }\n",
       "\n",
       "    .dataframe thead th {\n",
       "        text-align: right;\n",
       "    }\n",
       "</style>\n",
       "<table border=\"1\" class=\"dataframe\">\n",
       "  <thead>\n",
       "    <tr style=\"text-align: right;\">\n",
       "      <th></th>\n",
       "      <th>Customer</th>\n",
       "      <th>Item</th>\n",
       "      <th>Pen Cost</th>\n",
       "      <th>Shipping Cost</th>\n",
       "      <th>Purchase Date</th>\n",
       "      <th>Delivery Date</th>\n",
       "      <th>Review</th>\n",
       "      <th>Total Spend</th>\n",
       "      <th>Free Shipping</th>\n",
       "    </tr>\n",
       "  </thead>\n",
       "  <tbody>\n",
       "    <tr>\n",
       "      <th>0</th>\n",
       "      <td>5201</td>\n",
       "      <td>Ballpoint Pens</td>\n",
       "      <td>5.99</td>\n",
       "      <td>2.99</td>\n",
       "      <td>2023-05-01</td>\n",
       "      <td>2023-05-03</td>\n",
       "      <td>DoodleWithMe|I love the way this pen writes, b...</td>\n",
       "      <td>8.98</td>\n",
       "      <td>No</td>\n",
       "    </tr>\n",
       "    <tr>\n",
       "      <th>1</th>\n",
       "      <td>5202</td>\n",
       "      <td>Sharpies</td>\n",
       "      <td>12.99</td>\n",
       "      <td>0.00</td>\n",
       "      <td>2023-05-01</td>\n",
       "      <td>2023-05-04</td>\n",
       "      <td>ScribbleMaster|The classic Sharpie marker has ...</td>\n",
       "      <td>12.99</td>\n",
       "      <td>Yes</td>\n",
       "    </tr>\n",
       "    <tr>\n",
       "      <th>2</th>\n",
       "      <td>5203</td>\n",
       "      <td>Ballpoint Pens (Bold)</td>\n",
       "      <td>6.95</td>\n",
       "      <td>4.99</td>\n",
       "      <td>2023-05-01</td>\n",
       "      <td>2023-05-02</td>\n",
       "      <td>PenPalForever|The retractable ballpoint pen ha...</td>\n",
       "      <td>11.94</td>\n",
       "      <td>No</td>\n",
       "    </tr>\n",
       "    <tr>\n",
       "      <th>3</th>\n",
       "      <td>5204</td>\n",
       "      <td>Gel Pens</td>\n",
       "      <td>5.99</td>\n",
       "      <td>2.99</td>\n",
       "      <td>2023-05-01</td>\n",
       "      <td>2023-05-04</td>\n",
       "      <td>TheWriteWay|This gel pen has a comfortable gri...</td>\n",
       "      <td>8.98</td>\n",
       "      <td>No</td>\n",
       "    </tr>\n",
       "    <tr>\n",
       "      <th>4</th>\n",
       "      <td>5205</td>\n",
       "      <td>Rollerball Pens</td>\n",
       "      <td>12.99</td>\n",
       "      <td>1.99</td>\n",
       "      <td>2023-05-01</td>\n",
       "      <td>2023-05-03</td>\n",
       "      <td>PenAndPaperPerson|The rollerball pen has a smo...</td>\n",
       "      <td>14.98</td>\n",
       "      <td>No</td>\n",
       "    </tr>\n",
       "  </tbody>\n",
       "</table>\n",
       "</div>"
      ],
      "text/plain": [
       "   Customer                   Item  Pen Cost  Shipping Cost Purchase Date  \\\n",
       "0      5201         Ballpoint Pens      5.99           2.99    2023-05-01   \n",
       "1      5202               Sharpies     12.99           0.00    2023-05-01   \n",
       "2      5203  Ballpoint Pens (Bold)      6.95           4.99    2023-05-01   \n",
       "3      5204               Gel Pens      5.99           2.99    2023-05-01   \n",
       "4      5205        Rollerball Pens     12.99           1.99    2023-05-01   \n",
       "\n",
       "  Delivery Date                                             Review  \\\n",
       "0    2023-05-03  DoodleWithMe|I love the way this pen writes, b...   \n",
       "1    2023-05-04  ScribbleMaster|The classic Sharpie marker has ...   \n",
       "2    2023-05-02  PenPalForever|The retractable ballpoint pen ha...   \n",
       "3    2023-05-04  TheWriteWay|This gel pen has a comfortable gri...   \n",
       "4    2023-05-03  PenAndPaperPerson|The rollerball pen has a smo...   \n",
       "\n",
       "   Total Spend Free Shipping  \n",
       "0         8.98            No  \n",
       "1        12.99           Yes  \n",
       "2        11.94            No  \n",
       "3         8.98            No  \n",
       "4        14.98            No  "
      ]
     },
     "execution_count": 90,
     "metadata": {},
     "output_type": "execute_result"
    }
   ],
   "source": [
    "# Calculate the number of days between the purchase and delivery date for each sale\n",
    "\n",
    "pens.head()"
   ]
  },
  {
   "cell_type": "code",
   "execution_count": 93,
   "metadata": {
    "tags": []
   },
   "outputs": [],
   "source": [
    "pens[\"Delivery Time\"] = pens[\"Delivery Date\"] - pens[\"Purchase Date\"]"
   ]
  },
  {
   "cell_type": "code",
   "execution_count": 94,
   "metadata": {
    "tags": []
   },
   "outputs": [
    {
     "data": {
      "text/html": [
       "<div>\n",
       "<style scoped>\n",
       "    .dataframe tbody tr th:only-of-type {\n",
       "        vertical-align: middle;\n",
       "    }\n",
       "\n",
       "    .dataframe tbody tr th {\n",
       "        vertical-align: top;\n",
       "    }\n",
       "\n",
       "    .dataframe thead th {\n",
       "        text-align: right;\n",
       "    }\n",
       "</style>\n",
       "<table border=\"1\" class=\"dataframe\">\n",
       "  <thead>\n",
       "    <tr style=\"text-align: right;\">\n",
       "      <th></th>\n",
       "      <th>Customer</th>\n",
       "      <th>Item</th>\n",
       "      <th>Pen Cost</th>\n",
       "      <th>Shipping Cost</th>\n",
       "      <th>Purchase Date</th>\n",
       "      <th>Delivery Date</th>\n",
       "      <th>Review</th>\n",
       "      <th>Total Spend</th>\n",
       "      <th>Free Shipping</th>\n",
       "      <th>Delivery Time</th>\n",
       "    </tr>\n",
       "  </thead>\n",
       "  <tbody>\n",
       "    <tr>\n",
       "      <th>0</th>\n",
       "      <td>5201</td>\n",
       "      <td>Ballpoint Pens</td>\n",
       "      <td>5.99</td>\n",
       "      <td>2.99</td>\n",
       "      <td>2023-05-01</td>\n",
       "      <td>2023-05-03</td>\n",
       "      <td>DoodleWithMe|I love the way this pen writes, b...</td>\n",
       "      <td>8.98</td>\n",
       "      <td>No</td>\n",
       "      <td>2 days</td>\n",
       "    </tr>\n",
       "    <tr>\n",
       "      <th>1</th>\n",
       "      <td>5202</td>\n",
       "      <td>Sharpies</td>\n",
       "      <td>12.99</td>\n",
       "      <td>0.00</td>\n",
       "      <td>2023-05-01</td>\n",
       "      <td>2023-05-04</td>\n",
       "      <td>ScribbleMaster|The classic Sharpie marker has ...</td>\n",
       "      <td>12.99</td>\n",
       "      <td>Yes</td>\n",
       "      <td>3 days</td>\n",
       "    </tr>\n",
       "  </tbody>\n",
       "</table>\n",
       "</div>"
      ],
      "text/plain": [
       "   Customer            Item  Pen Cost  Shipping Cost Purchase Date  \\\n",
       "0      5201  Ballpoint Pens      5.99           2.99    2023-05-01   \n",
       "1      5202        Sharpies     12.99           0.00    2023-05-01   \n",
       "\n",
       "  Delivery Date                                             Review  \\\n",
       "0    2023-05-03  DoodleWithMe|I love the way this pen writes, b...   \n",
       "1    2023-05-04  ScribbleMaster|The classic Sharpie marker has ...   \n",
       "\n",
       "   Total Spend Free Shipping Delivery Time  \n",
       "0         8.98            No        2 days  \n",
       "1        12.99           Yes        3 days  "
      ]
     },
     "execution_count": 94,
     "metadata": {},
     "output_type": "execute_result"
    }
   ],
   "source": [
    "pens.head(2)"
   ]
  },
  {
   "cell_type": "code",
   "execution_count": null,
   "metadata": {},
   "outputs": [],
   "source": []
  },
  {
   "cell_type": "code",
   "execution_count": 95,
   "metadata": {
    "tags": []
   },
   "outputs": [
    {
     "data": {
      "text/plain": [
       "Timedelta('3 days 05:45:36')"
      ]
     },
     "execution_count": 95,
     "metadata": {},
     "output_type": "execute_result"
    }
   ],
   "source": [
    "# What were the average days from purchase to delivery?\n",
    "\n",
    "pens[\"Delivery Time\"].mean()"
   ]
  },
  {
   "cell_type": "code",
   "execution_count": null,
   "metadata": {},
   "outputs": [],
   "source": []
  },
  {
   "cell_type": "markdown",
   "metadata": {},
   "source": [
    "## 9. Create Columns From Text Data"
   ]
  },
  {
   "cell_type": "markdown",
   "metadata": {},
   "source": [
    "* Split one column into multiple columns\n",
    "* Create a Boolean column (True / False) to show whether a text field contains particular words"
   ]
  },
  {
   "cell_type": "code",
   "execution_count": 96,
   "metadata": {
    "tags": []
   },
   "outputs": [],
   "source": [
    "# Split the reviews on the “|” character to create two new columns: “User Name” and “Review Text”\n",
    "# Create a “Leak or Spill” column that flags the reviews that mention either “leak” or “spill”"
   ]
  },
  {
   "cell_type": "code",
   "execution_count": 97,
   "metadata": {
    "tags": []
   },
   "outputs": [
    {
     "data": {
      "text/html": [
       "<div>\n",
       "<style scoped>\n",
       "    .dataframe tbody tr th:only-of-type {\n",
       "        vertical-align: middle;\n",
       "    }\n",
       "\n",
       "    .dataframe tbody tr th {\n",
       "        vertical-align: top;\n",
       "    }\n",
       "\n",
       "    .dataframe thead th {\n",
       "        text-align: right;\n",
       "    }\n",
       "</style>\n",
       "<table border=\"1\" class=\"dataframe\">\n",
       "  <thead>\n",
       "    <tr style=\"text-align: right;\">\n",
       "      <th></th>\n",
       "      <th>Customer</th>\n",
       "      <th>Item</th>\n",
       "      <th>Pen Cost</th>\n",
       "      <th>Shipping Cost</th>\n",
       "      <th>Purchase Date</th>\n",
       "      <th>Delivery Date</th>\n",
       "      <th>Review</th>\n",
       "      <th>Total Spend</th>\n",
       "      <th>Free Shipping</th>\n",
       "      <th>Delivery Time</th>\n",
       "    </tr>\n",
       "  </thead>\n",
       "  <tbody>\n",
       "    <tr>\n",
       "      <th>0</th>\n",
       "      <td>5201</td>\n",
       "      <td>Ballpoint Pens</td>\n",
       "      <td>5.99</td>\n",
       "      <td>2.99</td>\n",
       "      <td>2023-05-01</td>\n",
       "      <td>2023-05-03</td>\n",
       "      <td>DoodleWithMe|I love the way this pen writes, b...</td>\n",
       "      <td>8.98</td>\n",
       "      <td>No</td>\n",
       "      <td>2 days</td>\n",
       "    </tr>\n",
       "    <tr>\n",
       "      <th>1</th>\n",
       "      <td>5202</td>\n",
       "      <td>Sharpies</td>\n",
       "      <td>12.99</td>\n",
       "      <td>0.00</td>\n",
       "      <td>2023-05-01</td>\n",
       "      <td>2023-05-04</td>\n",
       "      <td>ScribbleMaster|The classic Sharpie marker has ...</td>\n",
       "      <td>12.99</td>\n",
       "      <td>Yes</td>\n",
       "      <td>3 days</td>\n",
       "    </tr>\n",
       "    <tr>\n",
       "      <th>2</th>\n",
       "      <td>5203</td>\n",
       "      <td>Ballpoint Pens (Bold)</td>\n",
       "      <td>6.95</td>\n",
       "      <td>4.99</td>\n",
       "      <td>2023-05-01</td>\n",
       "      <td>2023-05-02</td>\n",
       "      <td>PenPalForever|The retractable ballpoint pen ha...</td>\n",
       "      <td>11.94</td>\n",
       "      <td>No</td>\n",
       "      <td>1 days</td>\n",
       "    </tr>\n",
       "    <tr>\n",
       "      <th>3</th>\n",
       "      <td>5204</td>\n",
       "      <td>Gel Pens</td>\n",
       "      <td>5.99</td>\n",
       "      <td>2.99</td>\n",
       "      <td>2023-05-01</td>\n",
       "      <td>2023-05-04</td>\n",
       "      <td>TheWriteWay|This gel pen has a comfortable gri...</td>\n",
       "      <td>8.98</td>\n",
       "      <td>No</td>\n",
       "      <td>3 days</td>\n",
       "    </tr>\n",
       "    <tr>\n",
       "      <th>4</th>\n",
       "      <td>5205</td>\n",
       "      <td>Rollerball Pens</td>\n",
       "      <td>12.99</td>\n",
       "      <td>1.99</td>\n",
       "      <td>2023-05-01</td>\n",
       "      <td>2023-05-03</td>\n",
       "      <td>PenAndPaperPerson|The rollerball pen has a smo...</td>\n",
       "      <td>14.98</td>\n",
       "      <td>No</td>\n",
       "      <td>2 days</td>\n",
       "    </tr>\n",
       "  </tbody>\n",
       "</table>\n",
       "</div>"
      ],
      "text/plain": [
       "   Customer                   Item  Pen Cost  Shipping Cost Purchase Date  \\\n",
       "0      5201         Ballpoint Pens      5.99           2.99    2023-05-01   \n",
       "1      5202               Sharpies     12.99           0.00    2023-05-01   \n",
       "2      5203  Ballpoint Pens (Bold)      6.95           4.99    2023-05-01   \n",
       "3      5204               Gel Pens      5.99           2.99    2023-05-01   \n",
       "4      5205        Rollerball Pens     12.99           1.99    2023-05-01   \n",
       "\n",
       "  Delivery Date                                             Review  \\\n",
       "0    2023-05-03  DoodleWithMe|I love the way this pen writes, b...   \n",
       "1    2023-05-04  ScribbleMaster|The classic Sharpie marker has ...   \n",
       "2    2023-05-02  PenPalForever|The retractable ballpoint pen ha...   \n",
       "3    2023-05-04  TheWriteWay|This gel pen has a comfortable gri...   \n",
       "4    2023-05-03  PenAndPaperPerson|The rollerball pen has a smo...   \n",
       "\n",
       "   Total Spend Free Shipping Delivery Time  \n",
       "0         8.98            No        2 days  \n",
       "1        12.99           Yes        3 days  \n",
       "2        11.94            No        1 days  \n",
       "3         8.98            No        3 days  \n",
       "4        14.98            No        2 days  "
      ]
     },
     "execution_count": 97,
     "metadata": {},
     "output_type": "execute_result"
    }
   ],
   "source": [
    "pens.head()"
   ]
  },
  {
   "cell_type": "code",
   "execution_count": null,
   "metadata": {},
   "outputs": [],
   "source": []
  },
  {
   "cell_type": "code",
   "execution_count": 101,
   "metadata": {
    "tags": []
   },
   "outputs": [
    {
     "data": {
      "text/plain": [
       "0    [DoodleWithMe, I love the way this pen writes,...\n",
       "1    [ScribbleMaster, The classic Sharpie marker ha...\n",
       "2    [PenPalForever, The retractable ballpoint pen ...\n",
       "3    [TheWriteWay, This gel pen has a comfortable g...\n",
       "4    [PenAndPaperPerson, The rollerball pen has a s...\n",
       "Name: Review, dtype: object"
      ]
     },
     "execution_count": 101,
     "metadata": {},
     "output_type": "execute_result"
    }
   ],
   "source": [
    "reviews = pens[\"Review\"].str.split('|')\n",
    "reviews.head()"
   ]
  },
  {
   "cell_type": "code",
   "execution_count": 103,
   "metadata": {
    "tags": []
   },
   "outputs": [],
   "source": [
    "pens[[\"User Name\", \"Review Text\"]] = pd.DataFrame(reviews.to_list())"
   ]
  },
  {
   "cell_type": "code",
   "execution_count": 104,
   "metadata": {
    "tags": []
   },
   "outputs": [
    {
     "data": {
      "text/html": [
       "<div>\n",
       "<style scoped>\n",
       "    .dataframe tbody tr th:only-of-type {\n",
       "        vertical-align: middle;\n",
       "    }\n",
       "\n",
       "    .dataframe tbody tr th {\n",
       "        vertical-align: top;\n",
       "    }\n",
       "\n",
       "    .dataframe thead th {\n",
       "        text-align: right;\n",
       "    }\n",
       "</style>\n",
       "<table border=\"1\" class=\"dataframe\">\n",
       "  <thead>\n",
       "    <tr style=\"text-align: right;\">\n",
       "      <th></th>\n",
       "      <th>Customer</th>\n",
       "      <th>Item</th>\n",
       "      <th>Pen Cost</th>\n",
       "      <th>Shipping Cost</th>\n",
       "      <th>Purchase Date</th>\n",
       "      <th>Delivery Date</th>\n",
       "      <th>Review</th>\n",
       "      <th>Total Spend</th>\n",
       "      <th>Free Shipping</th>\n",
       "      <th>Delivery Time</th>\n",
       "      <th>User Name</th>\n",
       "      <th>Review Text</th>\n",
       "    </tr>\n",
       "  </thead>\n",
       "  <tbody>\n",
       "    <tr>\n",
       "      <th>0</th>\n",
       "      <td>5201</td>\n",
       "      <td>Ballpoint Pens</td>\n",
       "      <td>5.99</td>\n",
       "      <td>2.99</td>\n",
       "      <td>2023-05-01</td>\n",
       "      <td>2023-05-03</td>\n",
       "      <td>DoodleWithMe|I love the way this pen writes, b...</td>\n",
       "      <td>8.98</td>\n",
       "      <td>No</td>\n",
       "      <td>2 days</td>\n",
       "      <td>DoodleWithMe</td>\n",
       "      <td>I love the way this pen writes, but unfortunat...</td>\n",
       "    </tr>\n",
       "    <tr>\n",
       "      <th>1</th>\n",
       "      <td>5202</td>\n",
       "      <td>Sharpies</td>\n",
       "      <td>12.99</td>\n",
       "      <td>0.00</td>\n",
       "      <td>2023-05-01</td>\n",
       "      <td>2023-05-04</td>\n",
       "      <td>ScribbleMaster|The classic Sharpie marker has ...</td>\n",
       "      <td>12.99</td>\n",
       "      <td>Yes</td>\n",
       "      <td>3 days</td>\n",
       "      <td>ScribbleMaster</td>\n",
       "      <td>The classic Sharpie marker has a bold, permane...</td>\n",
       "    </tr>\n",
       "    <tr>\n",
       "      <th>2</th>\n",
       "      <td>5203</td>\n",
       "      <td>Ballpoint Pens (Bold)</td>\n",
       "      <td>6.95</td>\n",
       "      <td>4.99</td>\n",
       "      <td>2023-05-01</td>\n",
       "      <td>2023-05-02</td>\n",
       "      <td>PenPalForever|The retractable ballpoint pen ha...</td>\n",
       "      <td>11.94</td>\n",
       "      <td>No</td>\n",
       "      <td>1 days</td>\n",
       "      <td>PenPalForever</td>\n",
       "      <td>The retractable ballpoint pen has a durable, m...</td>\n",
       "    </tr>\n",
       "    <tr>\n",
       "      <th>3</th>\n",
       "      <td>5204</td>\n",
       "      <td>Gel Pens</td>\n",
       "      <td>5.99</td>\n",
       "      <td>2.99</td>\n",
       "      <td>2023-05-01</td>\n",
       "      <td>2023-05-04</td>\n",
       "      <td>TheWriteWay|This gel pen has a comfortable gri...</td>\n",
       "      <td>8.98</td>\n",
       "      <td>No</td>\n",
       "      <td>3 days</td>\n",
       "      <td>TheWriteWay</td>\n",
       "      <td>This gel pen has a comfortable grip and writes...</td>\n",
       "    </tr>\n",
       "    <tr>\n",
       "      <th>4</th>\n",
       "      <td>5205</td>\n",
       "      <td>Rollerball Pens</td>\n",
       "      <td>12.99</td>\n",
       "      <td>1.99</td>\n",
       "      <td>2023-05-01</td>\n",
       "      <td>2023-05-03</td>\n",
       "      <td>PenAndPaperPerson|The rollerball pen has a smo...</td>\n",
       "      <td>14.98</td>\n",
       "      <td>No</td>\n",
       "      <td>2 days</td>\n",
       "      <td>PenAndPaperPerson</td>\n",
       "      <td>The rollerball pen has a smooth, fluid feel an...</td>\n",
       "    </tr>\n",
       "  </tbody>\n",
       "</table>\n",
       "</div>"
      ],
      "text/plain": [
       "   Customer                   Item  Pen Cost  Shipping Cost Purchase Date  \\\n",
       "0      5201         Ballpoint Pens      5.99           2.99    2023-05-01   \n",
       "1      5202               Sharpies     12.99           0.00    2023-05-01   \n",
       "2      5203  Ballpoint Pens (Bold)      6.95           4.99    2023-05-01   \n",
       "3      5204               Gel Pens      5.99           2.99    2023-05-01   \n",
       "4      5205        Rollerball Pens     12.99           1.99    2023-05-01   \n",
       "\n",
       "  Delivery Date                                             Review  \\\n",
       "0    2023-05-03  DoodleWithMe|I love the way this pen writes, b...   \n",
       "1    2023-05-04  ScribbleMaster|The classic Sharpie marker has ...   \n",
       "2    2023-05-02  PenPalForever|The retractable ballpoint pen ha...   \n",
       "3    2023-05-04  TheWriteWay|This gel pen has a comfortable gri...   \n",
       "4    2023-05-03  PenAndPaperPerson|The rollerball pen has a smo...   \n",
       "\n",
       "   Total Spend Free Shipping Delivery Time          User Name  \\\n",
       "0         8.98            No        2 days       DoodleWithMe   \n",
       "1        12.99           Yes        3 days     ScribbleMaster   \n",
       "2        11.94            No        1 days      PenPalForever   \n",
       "3         8.98            No        3 days        TheWriteWay   \n",
       "4        14.98            No        2 days  PenAndPaperPerson   \n",
       "\n",
       "                                         Review Text  \n",
       "0  I love the way this pen writes, but unfortunat...  \n",
       "1  The classic Sharpie marker has a bold, permane...  \n",
       "2  The retractable ballpoint pen has a durable, m...  \n",
       "3  This gel pen has a comfortable grip and writes...  \n",
       "4  The rollerball pen has a smooth, fluid feel an...  "
      ]
     },
     "execution_count": 104,
     "metadata": {},
     "output_type": "execute_result"
    }
   ],
   "source": [
    "pens.head()"
   ]
  },
  {
   "cell_type": "code",
   "execution_count": null,
   "metadata": {},
   "outputs": [],
   "source": []
  },
  {
   "cell_type": "code",
   "execution_count": 107,
   "metadata": {
    "tags": []
   },
   "outputs": [],
   "source": [
    "pens[\"Leak or Spill\"] = pens[\"Review\"].str.contains('leak|spill', regex=True)"
   ]
  },
  {
   "cell_type": "code",
   "execution_count": 108,
   "metadata": {
    "tags": []
   },
   "outputs": [
    {
     "data": {
      "text/html": [
       "<div>\n",
       "<style scoped>\n",
       "    .dataframe tbody tr th:only-of-type {\n",
       "        vertical-align: middle;\n",
       "    }\n",
       "\n",
       "    .dataframe tbody tr th {\n",
       "        vertical-align: top;\n",
       "    }\n",
       "\n",
       "    .dataframe thead th {\n",
       "        text-align: right;\n",
       "    }\n",
       "</style>\n",
       "<table border=\"1\" class=\"dataframe\">\n",
       "  <thead>\n",
       "    <tr style=\"text-align: right;\">\n",
       "      <th></th>\n",
       "      <th>Customer</th>\n",
       "      <th>Item</th>\n",
       "      <th>Pen Cost</th>\n",
       "      <th>Shipping Cost</th>\n",
       "      <th>Purchase Date</th>\n",
       "      <th>Delivery Date</th>\n",
       "      <th>Review</th>\n",
       "      <th>Total Spend</th>\n",
       "      <th>Free Shipping</th>\n",
       "      <th>Delivery Time</th>\n",
       "      <th>User Name</th>\n",
       "      <th>Review Text</th>\n",
       "      <th>Leak or Spill</th>\n",
       "    </tr>\n",
       "  </thead>\n",
       "  <tbody>\n",
       "    <tr>\n",
       "      <th>0</th>\n",
       "      <td>5201</td>\n",
       "      <td>Ballpoint Pens</td>\n",
       "      <td>5.99</td>\n",
       "      <td>2.99</td>\n",
       "      <td>2023-05-01</td>\n",
       "      <td>2023-05-03</td>\n",
       "      <td>DoodleWithMe|I love the way this pen writes, b...</td>\n",
       "      <td>8.98</td>\n",
       "      <td>No</td>\n",
       "      <td>2 days</td>\n",
       "      <td>DoodleWithMe</td>\n",
       "      <td>I love the way this pen writes, but unfortunat...</td>\n",
       "      <td>True</td>\n",
       "    </tr>\n",
       "    <tr>\n",
       "      <th>1</th>\n",
       "      <td>5202</td>\n",
       "      <td>Sharpies</td>\n",
       "      <td>12.99</td>\n",
       "      <td>0.00</td>\n",
       "      <td>2023-05-01</td>\n",
       "      <td>2023-05-04</td>\n",
       "      <td>ScribbleMaster|The classic Sharpie marker has ...</td>\n",
       "      <td>12.99</td>\n",
       "      <td>Yes</td>\n",
       "      <td>3 days</td>\n",
       "      <td>ScribbleMaster</td>\n",
       "      <td>The classic Sharpie marker has a bold, permane...</td>\n",
       "      <td>False</td>\n",
       "    </tr>\n",
       "    <tr>\n",
       "      <th>2</th>\n",
       "      <td>5203</td>\n",
       "      <td>Ballpoint Pens (Bold)</td>\n",
       "      <td>6.95</td>\n",
       "      <td>4.99</td>\n",
       "      <td>2023-05-01</td>\n",
       "      <td>2023-05-02</td>\n",
       "      <td>PenPalForever|The retractable ballpoint pen ha...</td>\n",
       "      <td>11.94</td>\n",
       "      <td>No</td>\n",
       "      <td>1 days</td>\n",
       "      <td>PenPalForever</td>\n",
       "      <td>The retractable ballpoint pen has a durable, m...</td>\n",
       "      <td>False</td>\n",
       "    </tr>\n",
       "    <tr>\n",
       "      <th>3</th>\n",
       "      <td>5204</td>\n",
       "      <td>Gel Pens</td>\n",
       "      <td>5.99</td>\n",
       "      <td>2.99</td>\n",
       "      <td>2023-05-01</td>\n",
       "      <td>2023-05-04</td>\n",
       "      <td>TheWriteWay|This gel pen has a comfortable gri...</td>\n",
       "      <td>8.98</td>\n",
       "      <td>No</td>\n",
       "      <td>3 days</td>\n",
       "      <td>TheWriteWay</td>\n",
       "      <td>This gel pen has a comfortable grip and writes...</td>\n",
       "      <td>False</td>\n",
       "    </tr>\n",
       "    <tr>\n",
       "      <th>4</th>\n",
       "      <td>5205</td>\n",
       "      <td>Rollerball Pens</td>\n",
       "      <td>12.99</td>\n",
       "      <td>1.99</td>\n",
       "      <td>2023-05-01</td>\n",
       "      <td>2023-05-03</td>\n",
       "      <td>PenAndPaperPerson|The rollerball pen has a smo...</td>\n",
       "      <td>14.98</td>\n",
       "      <td>No</td>\n",
       "      <td>2 days</td>\n",
       "      <td>PenAndPaperPerson</td>\n",
       "      <td>The rollerball pen has a smooth, fluid feel an...</td>\n",
       "      <td>False</td>\n",
       "    </tr>\n",
       "  </tbody>\n",
       "</table>\n",
       "</div>"
      ],
      "text/plain": [
       "   Customer                   Item  Pen Cost  Shipping Cost Purchase Date  \\\n",
       "0      5201         Ballpoint Pens      5.99           2.99    2023-05-01   \n",
       "1      5202               Sharpies     12.99           0.00    2023-05-01   \n",
       "2      5203  Ballpoint Pens (Bold)      6.95           4.99    2023-05-01   \n",
       "3      5204               Gel Pens      5.99           2.99    2023-05-01   \n",
       "4      5205        Rollerball Pens     12.99           1.99    2023-05-01   \n",
       "\n",
       "  Delivery Date                                             Review  \\\n",
       "0    2023-05-03  DoodleWithMe|I love the way this pen writes, b...   \n",
       "1    2023-05-04  ScribbleMaster|The classic Sharpie marker has ...   \n",
       "2    2023-05-02  PenPalForever|The retractable ballpoint pen ha...   \n",
       "3    2023-05-04  TheWriteWay|This gel pen has a comfortable gri...   \n",
       "4    2023-05-03  PenAndPaperPerson|The rollerball pen has a smo...   \n",
       "\n",
       "   Total Spend Free Shipping Delivery Time          User Name  \\\n",
       "0         8.98            No        2 days       DoodleWithMe   \n",
       "1        12.99           Yes        3 days     ScribbleMaster   \n",
       "2        11.94            No        1 days      PenPalForever   \n",
       "3         8.98            No        3 days        TheWriteWay   \n",
       "4        14.98            No        2 days  PenAndPaperPerson   \n",
       "\n",
       "                                         Review Text  Leak or Spill  \n",
       "0  I love the way this pen writes, but unfortunat...           True  \n",
       "1  The classic Sharpie marker has a bold, permane...          False  \n",
       "2  The retractable ballpoint pen has a durable, m...          False  \n",
       "3  This gel pen has a comfortable grip and writes...          False  \n",
       "4  The rollerball pen has a smooth, fluid feel an...          False  "
      ]
     },
     "execution_count": 108,
     "metadata": {},
     "output_type": "execute_result"
    }
   ],
   "source": [
    "pens.head()"
   ]
  },
  {
   "cell_type": "code",
   "execution_count": null,
   "metadata": {},
   "outputs": [],
   "source": []
  },
  {
   "cell_type": "code",
   "execution_count": null,
   "metadata": {},
   "outputs": [],
   "source": []
  }
 ],
 "metadata": {
  "@deathbeds/jupyterlab-fonts": {
   "fontLicenses": {
    "Anonymous Pro Bold": {
     "holders": [
      "Copyright (c) 2009, Mark Simonson (http://www.ms-studio.com, mark@marksimonson.com), with Reserved Font Name Anonymous Pro Minus."
     ],
     "name": "SIL Open Font License 1.1",
     "spdx": "OFL-1.1",
     "text": "Copyright (c) 2009, Mark Simonson (http://www.ms-studio.com, mark@marksimonson.com),\nwith Reserved Font Name Anonymous Pro Minus.\n\nThis Font Software is licensed under the SIL Open Font License, Version 1.1.\nThis license is copied below, and is also available with a FAQ at:\nhttp://scripts.sil.org/OFL\n\n\n-----------------------------------------------------------\nSIL OPEN FONT LICENSE Version 1.1 - 26 February 2007\n-----------------------------------------------------------\n\nPREAMBLE\nThe goals of the Open Font License (OFL) are to stimulate worldwide\ndevelopment of collaborative font projects, to support the font creation\nefforts of academic and linguistic communities, and to provide a free and\nopen framework in which fonts may be shared and improved in partnership\nwith others.\n\nThe OFL allows the licensed fonts to be used, studied, modified and\nredistributed freely as long as they are not sold by themselves. The\nfonts, including any derivative works, can be bundled, embedded,\nredistributed and/or sold with any software provided that any reserved\nnames are not used by derivative works. The fonts and derivatives,\nhowever, cannot be released under any other type of license. The\nrequirement for fonts to remain under this license does not apply\nto any document created using the fonts or their derivatives.\n\nDEFINITIONS\n\"Font Software\" refers to the set of files released by the Copyright\nHolder(s) under this license and clearly marked as such. This may\ninclude source files, build scripts and documentation.\n\n\"Reserved Font Name\" refers to any names specified as such after the\ncopyright statement(s).\n\n\"Original Version\" refers to the collection of Font Software components as\ndistributed by the Copyright Holder(s).\n\n\"Modified Version\" refers to any derivative made by adding to, deleting,\nor substituting -- in part or in whole -- any of the components of the\nOriginal Version, by changing formats or by porting the Font Software to a\nnew environment.\n\n\"Author\" refers to any designer, engineer, programmer, technical\nwriter or other person who contributed to the Font Software.\n\nPERMISSION & CONDITIONS\nPermission is hereby granted, free of charge, to any person obtaining\na copy of the Font Software, to use, study, copy, merge, embed, modify,\nredistribute, and sell modified and unmodified copies of the Font\nSoftware, subject to the following conditions:\n\n1) Neither the Font Software nor any of its individual components,\nin Original or Modified Versions, may be sold by itself.\n\n2) Original or Modified Versions of the Font Software may be bundled,\nredistributed and/or sold with any software, provided that each copy\ncontains the above copyright notice and this license. These can be\nincluded either as stand-alone text files, human-readable headers or\nin the appropriate machine-readable metadata fields within text or\nbinary files as long as those fields can be easily viewed by the user.\n\n3) No Modified Version of the Font Software may use the Reserved Font\nName(s) unless explicit written permission is granted by the corresponding\nCopyright Holder. This restriction only applies to the primary font name as\npresented to the users.\n\n4) The name(s) of the Copyright Holder(s) or the Author(s) of the Font\nSoftware shall not be used to promote, endorse or advertise any\nModified Version, except to acknowledge the contribution(s) of the\nCopyright Holder(s) and the Author(s) or with their explicit written\npermission.\n\n5) The Font Software, modified or unmodified, in part or in whole,\nmust be distributed entirely under this license, and must not be\ndistributed under any other license. The requirement for fonts to\nremain under this license does not apply to any document created\nusing the Font Software.\n\nTERMINATION\nThis license becomes null and void if any of the above conditions are\nnot met.\n\nDISCLAIMER\nTHE FONT SOFTWARE IS PROVIDED \"AS IS\", WITHOUT WARRANTY OF ANY KIND,\nEXPRESS OR IMPLIED, INCLUDING BUT NOT LIMITED TO ANY WARRANTIES OF\nMERCHANTABILITY, FITNESS FOR A PARTICULAR PURPOSE AND NONINFRINGEMENT\nOF COPYRIGHT, PATENT, TRADEMARK, OR OTHER RIGHT. IN NO EVENT SHALL THE\nCOPYRIGHT HOLDER BE LIABLE FOR ANY CLAIM, DAMAGES OR OTHER LIABILITY,\nINCLUDING ANY GENERAL, SPECIAL, INDIRECT, INCIDENTAL, OR CONSEQUENTIAL\nDAMAGES, WHETHER IN AN ACTION OF CONTRACT, TORT OR OTHERWISE, ARISING\nFROM, OUT OF THE USE OR INABILITY TO USE THE FONT SOFTWARE OR FROM\nOTHER DEALINGS IN THE FONT SOFTWARE.\n"
    }
   },
   "fonts": {
    "Anonymous Pro Bold": [
     {
      "fontFamily": "'Anonymous Pro Bold'",
      "src": "url('data:font/woff2;charset=utf-8;base64,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') format('woff2')"
     }
    ]
   },
   "styles": {
    ":root": {
     "--jp-code-font-family": "'Anonymous Pro Bold'",
     "--jp-code-font-size": "17px"
    }
   }
  },
  "kernelspec": {
   "display_name": "Python 3 (ipykernel)",
   "language": "python",
   "name": "python3"
  },
  "language_info": {
   "codemirror_mode": {
    "name": "ipython",
    "version": 3
   },
   "file_extension": ".py",
   "mimetype": "text/x-python",
   "name": "python",
   "nbconvert_exporter": "python",
   "pygments_lexer": "ipython3",
   "version": "3.11.4"
  }
 },
 "nbformat": 4,
 "nbformat_minor": 4
}
